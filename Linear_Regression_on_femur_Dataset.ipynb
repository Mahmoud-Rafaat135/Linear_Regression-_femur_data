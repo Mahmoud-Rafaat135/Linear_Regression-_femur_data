{
  "nbformat": 4,
  "nbformat_minor": 0,
  "metadata": {
    "colab": {
      "provenance": []
    },
    "kernelspec": {
      "name": "python3",
      "display_name": "Python 3"
    },
    "language_info": {
      "name": "python"
    }
  },
  "cells": [
    {
      "cell_type": "markdown",
      "source": [
        "#Simple Linear Regression¶\n"
      ],
      "metadata": {
        "id": "lsRYDUNx4zxb"
      }
    },
    {
      "cell_type": "code",
      "execution_count": 1,
      "metadata": {
        "id": "KOTgZz6H4hty"
      },
      "outputs": [],
      "source": [
        "#import librarires\n",
        "import numpy as np\n",
        "import matplotlib.pyplot as plt\n",
        "import pandas as pd\n",
        "%matplotlib inline\n",
        "import seaborn as sns\n"
      ]
    },
    {
      "cell_type": "code",
      "source": [
        "sns.set_style('darkgrid')\n"
      ],
      "metadata": {
        "id": "5Wiuttvj5Rb4"
      },
      "execution_count": 2,
      "outputs": []
    },
    {
      "cell_type": "code",
      "source": [
        "df=pd.read_csv('/content/femur_data.csv')\n",
        "df.head()"
      ],
      "metadata": {
        "colab": {
          "base_uri": "https://localhost:8080/",
          "height": 206
        },
        "id": "rTTUqFpW5Yzf",
        "outputId": "fa200d46-8f7b-4ed7-ccc1-7c58126cadf2"
      },
      "execution_count": 3,
      "outputs": [
        {
          "output_type": "execute_result",
          "data": {
            "text/plain": [
              "   length      height\n",
              "0    35.0  145.751662\n",
              "1    36.5  154.819895\n",
              "2    38.0  147.451499\n",
              "3    39.5  154.532704\n",
              "4    41.0  166.174503"
            ],
            "text/html": [
              "\n",
              "  <div id=\"df-0696b87b-b622-43b0-97de-3367bd9d7589\" class=\"colab-df-container\">\n",
              "    <div>\n",
              "<style scoped>\n",
              "    .dataframe tbody tr th:only-of-type {\n",
              "        vertical-align: middle;\n",
              "    }\n",
              "\n",
              "    .dataframe tbody tr th {\n",
              "        vertical-align: top;\n",
              "    }\n",
              "\n",
              "    .dataframe thead th {\n",
              "        text-align: right;\n",
              "    }\n",
              "</style>\n",
              "<table border=\"1\" class=\"dataframe\">\n",
              "  <thead>\n",
              "    <tr style=\"text-align: right;\">\n",
              "      <th></th>\n",
              "      <th>length</th>\n",
              "      <th>height</th>\n",
              "    </tr>\n",
              "  </thead>\n",
              "  <tbody>\n",
              "    <tr>\n",
              "      <th>0</th>\n",
              "      <td>35.0</td>\n",
              "      <td>145.751662</td>\n",
              "    </tr>\n",
              "    <tr>\n",
              "      <th>1</th>\n",
              "      <td>36.5</td>\n",
              "      <td>154.819895</td>\n",
              "    </tr>\n",
              "    <tr>\n",
              "      <th>2</th>\n",
              "      <td>38.0</td>\n",
              "      <td>147.451499</td>\n",
              "    </tr>\n",
              "    <tr>\n",
              "      <th>3</th>\n",
              "      <td>39.5</td>\n",
              "      <td>154.532704</td>\n",
              "    </tr>\n",
              "    <tr>\n",
              "      <th>4</th>\n",
              "      <td>41.0</td>\n",
              "      <td>166.174503</td>\n",
              "    </tr>\n",
              "  </tbody>\n",
              "</table>\n",
              "</div>\n",
              "    <div class=\"colab-df-buttons\">\n",
              "\n",
              "  <div class=\"colab-df-container\">\n",
              "    <button class=\"colab-df-convert\" onclick=\"convertToInteractive('df-0696b87b-b622-43b0-97de-3367bd9d7589')\"\n",
              "            title=\"Convert this dataframe to an interactive table.\"\n",
              "            style=\"display:none;\">\n",
              "\n",
              "  <svg xmlns=\"http://www.w3.org/2000/svg\" height=\"24px\" viewBox=\"0 -960 960 960\">\n",
              "    <path d=\"M120-120v-720h720v720H120Zm60-500h600v-160H180v160Zm220 220h160v-160H400v160Zm0 220h160v-160H400v160ZM180-400h160v-160H180v160Zm440 0h160v-160H620v160ZM180-180h160v-160H180v160Zm440 0h160v-160H620v160Z\"/>\n",
              "  </svg>\n",
              "    </button>\n",
              "\n",
              "  <style>\n",
              "    .colab-df-container {\n",
              "      display:flex;\n",
              "      gap: 12px;\n",
              "    }\n",
              "\n",
              "    .colab-df-convert {\n",
              "      background-color: #E8F0FE;\n",
              "      border: none;\n",
              "      border-radius: 50%;\n",
              "      cursor: pointer;\n",
              "      display: none;\n",
              "      fill: #1967D2;\n",
              "      height: 32px;\n",
              "      padding: 0 0 0 0;\n",
              "      width: 32px;\n",
              "    }\n",
              "\n",
              "    .colab-df-convert:hover {\n",
              "      background-color: #E2EBFA;\n",
              "      box-shadow: 0px 1px 2px rgba(60, 64, 67, 0.3), 0px 1px 3px 1px rgba(60, 64, 67, 0.15);\n",
              "      fill: #174EA6;\n",
              "    }\n",
              "\n",
              "    .colab-df-buttons div {\n",
              "      margin-bottom: 4px;\n",
              "    }\n",
              "\n",
              "    [theme=dark] .colab-df-convert {\n",
              "      background-color: #3B4455;\n",
              "      fill: #D2E3FC;\n",
              "    }\n",
              "\n",
              "    [theme=dark] .colab-df-convert:hover {\n",
              "      background-color: #434B5C;\n",
              "      box-shadow: 0px 1px 3px 1px rgba(0, 0, 0, 0.15);\n",
              "      filter: drop-shadow(0px 1px 2px rgba(0, 0, 0, 0.3));\n",
              "      fill: #FFFFFF;\n",
              "    }\n",
              "  </style>\n",
              "\n",
              "    <script>\n",
              "      const buttonEl =\n",
              "        document.querySelector('#df-0696b87b-b622-43b0-97de-3367bd9d7589 button.colab-df-convert');\n",
              "      buttonEl.style.display =\n",
              "        google.colab.kernel.accessAllowed ? 'block' : 'none';\n",
              "\n",
              "      async function convertToInteractive(key) {\n",
              "        const element = document.querySelector('#df-0696b87b-b622-43b0-97de-3367bd9d7589');\n",
              "        const dataTable =\n",
              "          await google.colab.kernel.invokeFunction('convertToInteractive',\n",
              "                                                    [key], {});\n",
              "        if (!dataTable) return;\n",
              "\n",
              "        const docLinkHtml = 'Like what you see? Visit the ' +\n",
              "          '<a target=\"_blank\" href=https://colab.research.google.com/notebooks/data_table.ipynb>data table notebook</a>'\n",
              "          + ' to learn more about interactive tables.';\n",
              "        element.innerHTML = '';\n",
              "        dataTable['output_type'] = 'display_data';\n",
              "        await google.colab.output.renderOutput(dataTable, element);\n",
              "        const docLink = document.createElement('div');\n",
              "        docLink.innerHTML = docLinkHtml;\n",
              "        element.appendChild(docLink);\n",
              "      }\n",
              "    </script>\n",
              "  </div>\n",
              "\n",
              "\n",
              "<div id=\"df-e151bd5f-8253-4e41-bbec-5a200fb73577\">\n",
              "  <button class=\"colab-df-quickchart\" onclick=\"quickchart('df-e151bd5f-8253-4e41-bbec-5a200fb73577')\"\n",
              "            title=\"Suggest charts\"\n",
              "            style=\"display:none;\">\n",
              "\n",
              "<svg xmlns=\"http://www.w3.org/2000/svg\" height=\"24px\"viewBox=\"0 0 24 24\"\n",
              "     width=\"24px\">\n",
              "    <g>\n",
              "        <path d=\"M19 3H5c-1.1 0-2 .9-2 2v14c0 1.1.9 2 2 2h14c1.1 0 2-.9 2-2V5c0-1.1-.9-2-2-2zM9 17H7v-7h2v7zm4 0h-2V7h2v10zm4 0h-2v-4h2v4z\"/>\n",
              "    </g>\n",
              "</svg>\n",
              "  </button>\n",
              "\n",
              "<style>\n",
              "  .colab-df-quickchart {\n",
              "      --bg-color: #E8F0FE;\n",
              "      --fill-color: #1967D2;\n",
              "      --hover-bg-color: #E2EBFA;\n",
              "      --hover-fill-color: #174EA6;\n",
              "      --disabled-fill-color: #AAA;\n",
              "      --disabled-bg-color: #DDD;\n",
              "  }\n",
              "\n",
              "  [theme=dark] .colab-df-quickchart {\n",
              "      --bg-color: #3B4455;\n",
              "      --fill-color: #D2E3FC;\n",
              "      --hover-bg-color: #434B5C;\n",
              "      --hover-fill-color: #FFFFFF;\n",
              "      --disabled-bg-color: #3B4455;\n",
              "      --disabled-fill-color: #666;\n",
              "  }\n",
              "\n",
              "  .colab-df-quickchart {\n",
              "    background-color: var(--bg-color);\n",
              "    border: none;\n",
              "    border-radius: 50%;\n",
              "    cursor: pointer;\n",
              "    display: none;\n",
              "    fill: var(--fill-color);\n",
              "    height: 32px;\n",
              "    padding: 0;\n",
              "    width: 32px;\n",
              "  }\n",
              "\n",
              "  .colab-df-quickchart:hover {\n",
              "    background-color: var(--hover-bg-color);\n",
              "    box-shadow: 0 1px 2px rgba(60, 64, 67, 0.3), 0 1px 3px 1px rgba(60, 64, 67, 0.15);\n",
              "    fill: var(--button-hover-fill-color);\n",
              "  }\n",
              "\n",
              "  .colab-df-quickchart-complete:disabled,\n",
              "  .colab-df-quickchart-complete:disabled:hover {\n",
              "    background-color: var(--disabled-bg-color);\n",
              "    fill: var(--disabled-fill-color);\n",
              "    box-shadow: none;\n",
              "  }\n",
              "\n",
              "  .colab-df-spinner {\n",
              "    border: 2px solid var(--fill-color);\n",
              "    border-color: transparent;\n",
              "    border-bottom-color: var(--fill-color);\n",
              "    animation:\n",
              "      spin 1s steps(1) infinite;\n",
              "  }\n",
              "\n",
              "  @keyframes spin {\n",
              "    0% {\n",
              "      border-color: transparent;\n",
              "      border-bottom-color: var(--fill-color);\n",
              "      border-left-color: var(--fill-color);\n",
              "    }\n",
              "    20% {\n",
              "      border-color: transparent;\n",
              "      border-left-color: var(--fill-color);\n",
              "      border-top-color: var(--fill-color);\n",
              "    }\n",
              "    30% {\n",
              "      border-color: transparent;\n",
              "      border-left-color: var(--fill-color);\n",
              "      border-top-color: var(--fill-color);\n",
              "      border-right-color: var(--fill-color);\n",
              "    }\n",
              "    40% {\n",
              "      border-color: transparent;\n",
              "      border-right-color: var(--fill-color);\n",
              "      border-top-color: var(--fill-color);\n",
              "    }\n",
              "    60% {\n",
              "      border-color: transparent;\n",
              "      border-right-color: var(--fill-color);\n",
              "    }\n",
              "    80% {\n",
              "      border-color: transparent;\n",
              "      border-right-color: var(--fill-color);\n",
              "      border-bottom-color: var(--fill-color);\n",
              "    }\n",
              "    90% {\n",
              "      border-color: transparent;\n",
              "      border-bottom-color: var(--fill-color);\n",
              "    }\n",
              "  }\n",
              "</style>\n",
              "\n",
              "  <script>\n",
              "    async function quickchart(key) {\n",
              "      const quickchartButtonEl =\n",
              "        document.querySelector('#' + key + ' button');\n",
              "      quickchartButtonEl.disabled = true;  // To prevent multiple clicks.\n",
              "      quickchartButtonEl.classList.add('colab-df-spinner');\n",
              "      try {\n",
              "        const charts = await google.colab.kernel.invokeFunction(\n",
              "            'suggestCharts', [key], {});\n",
              "      } catch (error) {\n",
              "        console.error('Error during call to suggestCharts:', error);\n",
              "      }\n",
              "      quickchartButtonEl.classList.remove('colab-df-spinner');\n",
              "      quickchartButtonEl.classList.add('colab-df-quickchart-complete');\n",
              "    }\n",
              "    (() => {\n",
              "      let quickchartButtonEl =\n",
              "        document.querySelector('#df-e151bd5f-8253-4e41-bbec-5a200fb73577 button');\n",
              "      quickchartButtonEl.style.display =\n",
              "        google.colab.kernel.accessAllowed ? 'block' : 'none';\n",
              "    })();\n",
              "  </script>\n",
              "</div>\n",
              "\n",
              "    </div>\n",
              "  </div>\n"
            ],
            "application/vnd.google.colaboratory.intrinsic+json": {
              "type": "dataframe",
              "variable_name": "df",
              "summary": "{\n  \"name\": \"df\",\n  \"rows\": 21,\n  \"fields\": [\n    {\n      \"column\": \"length\",\n      \"properties\": {\n        \"dtype\": \"number\",\n        \"std\": 9.307255234493143,\n        \"min\": 35.0,\n        \"max\": 65.0,\n        \"num_unique_values\": 21,\n        \"samples\": [\n          35.0,\n          60.5,\n          57.5\n        ],\n        \"semantic_type\": \"\",\n        \"description\": \"\"\n      }\n    },\n    {\n      \"column\": \"height\",\n      \"properties\": {\n        \"dtype\": \"number\",\n        \"std\": 23.358588717030333,\n        \"min\": 145.75166215012945,\n        \"max\": 215.83945919564343,\n        \"num_unique_values\": 21,\n        \"samples\": [\n          145.75166215012945,\n          202.0614375777851,\n          201.607658163735\n        ],\n        \"semantic_type\": \"\",\n        \"description\": \"\"\n      }\n    }\n  ]\n}"
            }
          },
          "metadata": {},
          "execution_count": 3
        }
      ]
    },
    {
      "cell_type": "markdown",
      "source": [
        "#Preprocessing"
      ],
      "metadata": {
        "id": "Q1I0QW5R50Qz"
      }
    },
    {
      "cell_type": "code",
      "source": [
        "#rename columns\n",
        "df.rename(columns={'length':'Femur_length','height':'Human_height'},inplace=True)\n",
        "df.head()"
      ],
      "metadata": {
        "colab": {
          "base_uri": "https://localhost:8080/",
          "height": 206
        },
        "id": "cx29pHGV5inL",
        "outputId": "bbedc309-f9fc-4cd7-efff-8ef6bed8d97f"
      },
      "execution_count": 4,
      "outputs": [
        {
          "output_type": "execute_result",
          "data": {
            "text/plain": [
              "   Femur_length  Human_height\n",
              "0          35.0    145.751662\n",
              "1          36.5    154.819895\n",
              "2          38.0    147.451499\n",
              "3          39.5    154.532704\n",
              "4          41.0    166.174503"
            ],
            "text/html": [
              "\n",
              "  <div id=\"df-72a34d8c-3a16-4932-bae8-6bed48bf27e7\" class=\"colab-df-container\">\n",
              "    <div>\n",
              "<style scoped>\n",
              "    .dataframe tbody tr th:only-of-type {\n",
              "        vertical-align: middle;\n",
              "    }\n",
              "\n",
              "    .dataframe tbody tr th {\n",
              "        vertical-align: top;\n",
              "    }\n",
              "\n",
              "    .dataframe thead th {\n",
              "        text-align: right;\n",
              "    }\n",
              "</style>\n",
              "<table border=\"1\" class=\"dataframe\">\n",
              "  <thead>\n",
              "    <tr style=\"text-align: right;\">\n",
              "      <th></th>\n",
              "      <th>Femur_length</th>\n",
              "      <th>Human_height</th>\n",
              "    </tr>\n",
              "  </thead>\n",
              "  <tbody>\n",
              "    <tr>\n",
              "      <th>0</th>\n",
              "      <td>35.0</td>\n",
              "      <td>145.751662</td>\n",
              "    </tr>\n",
              "    <tr>\n",
              "      <th>1</th>\n",
              "      <td>36.5</td>\n",
              "      <td>154.819895</td>\n",
              "    </tr>\n",
              "    <tr>\n",
              "      <th>2</th>\n",
              "      <td>38.0</td>\n",
              "      <td>147.451499</td>\n",
              "    </tr>\n",
              "    <tr>\n",
              "      <th>3</th>\n",
              "      <td>39.5</td>\n",
              "      <td>154.532704</td>\n",
              "    </tr>\n",
              "    <tr>\n",
              "      <th>4</th>\n",
              "      <td>41.0</td>\n",
              "      <td>166.174503</td>\n",
              "    </tr>\n",
              "  </tbody>\n",
              "</table>\n",
              "</div>\n",
              "    <div class=\"colab-df-buttons\">\n",
              "\n",
              "  <div class=\"colab-df-container\">\n",
              "    <button class=\"colab-df-convert\" onclick=\"convertToInteractive('df-72a34d8c-3a16-4932-bae8-6bed48bf27e7')\"\n",
              "            title=\"Convert this dataframe to an interactive table.\"\n",
              "            style=\"display:none;\">\n",
              "\n",
              "  <svg xmlns=\"http://www.w3.org/2000/svg\" height=\"24px\" viewBox=\"0 -960 960 960\">\n",
              "    <path d=\"M120-120v-720h720v720H120Zm60-500h600v-160H180v160Zm220 220h160v-160H400v160Zm0 220h160v-160H400v160ZM180-400h160v-160H180v160Zm440 0h160v-160H620v160ZM180-180h160v-160H180v160Zm440 0h160v-160H620v160Z\"/>\n",
              "  </svg>\n",
              "    </button>\n",
              "\n",
              "  <style>\n",
              "    .colab-df-container {\n",
              "      display:flex;\n",
              "      gap: 12px;\n",
              "    }\n",
              "\n",
              "    .colab-df-convert {\n",
              "      background-color: #E8F0FE;\n",
              "      border: none;\n",
              "      border-radius: 50%;\n",
              "      cursor: pointer;\n",
              "      display: none;\n",
              "      fill: #1967D2;\n",
              "      height: 32px;\n",
              "      padding: 0 0 0 0;\n",
              "      width: 32px;\n",
              "    }\n",
              "\n",
              "    .colab-df-convert:hover {\n",
              "      background-color: #E2EBFA;\n",
              "      box-shadow: 0px 1px 2px rgba(60, 64, 67, 0.3), 0px 1px 3px 1px rgba(60, 64, 67, 0.15);\n",
              "      fill: #174EA6;\n",
              "    }\n",
              "\n",
              "    .colab-df-buttons div {\n",
              "      margin-bottom: 4px;\n",
              "    }\n",
              "\n",
              "    [theme=dark] .colab-df-convert {\n",
              "      background-color: #3B4455;\n",
              "      fill: #D2E3FC;\n",
              "    }\n",
              "\n",
              "    [theme=dark] .colab-df-convert:hover {\n",
              "      background-color: #434B5C;\n",
              "      box-shadow: 0px 1px 3px 1px rgba(0, 0, 0, 0.15);\n",
              "      filter: drop-shadow(0px 1px 2px rgba(0, 0, 0, 0.3));\n",
              "      fill: #FFFFFF;\n",
              "    }\n",
              "  </style>\n",
              "\n",
              "    <script>\n",
              "      const buttonEl =\n",
              "        document.querySelector('#df-72a34d8c-3a16-4932-bae8-6bed48bf27e7 button.colab-df-convert');\n",
              "      buttonEl.style.display =\n",
              "        google.colab.kernel.accessAllowed ? 'block' : 'none';\n",
              "\n",
              "      async function convertToInteractive(key) {\n",
              "        const element = document.querySelector('#df-72a34d8c-3a16-4932-bae8-6bed48bf27e7');\n",
              "        const dataTable =\n",
              "          await google.colab.kernel.invokeFunction('convertToInteractive',\n",
              "                                                    [key], {});\n",
              "        if (!dataTable) return;\n",
              "\n",
              "        const docLinkHtml = 'Like what you see? Visit the ' +\n",
              "          '<a target=\"_blank\" href=https://colab.research.google.com/notebooks/data_table.ipynb>data table notebook</a>'\n",
              "          + ' to learn more about interactive tables.';\n",
              "        element.innerHTML = '';\n",
              "        dataTable['output_type'] = 'display_data';\n",
              "        await google.colab.output.renderOutput(dataTable, element);\n",
              "        const docLink = document.createElement('div');\n",
              "        docLink.innerHTML = docLinkHtml;\n",
              "        element.appendChild(docLink);\n",
              "      }\n",
              "    </script>\n",
              "  </div>\n",
              "\n",
              "\n",
              "<div id=\"df-f3612921-b12b-4806-942b-eac114d05f56\">\n",
              "  <button class=\"colab-df-quickchart\" onclick=\"quickchart('df-f3612921-b12b-4806-942b-eac114d05f56')\"\n",
              "            title=\"Suggest charts\"\n",
              "            style=\"display:none;\">\n",
              "\n",
              "<svg xmlns=\"http://www.w3.org/2000/svg\" height=\"24px\"viewBox=\"0 0 24 24\"\n",
              "     width=\"24px\">\n",
              "    <g>\n",
              "        <path d=\"M19 3H5c-1.1 0-2 .9-2 2v14c0 1.1.9 2 2 2h14c1.1 0 2-.9 2-2V5c0-1.1-.9-2-2-2zM9 17H7v-7h2v7zm4 0h-2V7h2v10zm4 0h-2v-4h2v4z\"/>\n",
              "    </g>\n",
              "</svg>\n",
              "  </button>\n",
              "\n",
              "<style>\n",
              "  .colab-df-quickchart {\n",
              "      --bg-color: #E8F0FE;\n",
              "      --fill-color: #1967D2;\n",
              "      --hover-bg-color: #E2EBFA;\n",
              "      --hover-fill-color: #174EA6;\n",
              "      --disabled-fill-color: #AAA;\n",
              "      --disabled-bg-color: #DDD;\n",
              "  }\n",
              "\n",
              "  [theme=dark] .colab-df-quickchart {\n",
              "      --bg-color: #3B4455;\n",
              "      --fill-color: #D2E3FC;\n",
              "      --hover-bg-color: #434B5C;\n",
              "      --hover-fill-color: #FFFFFF;\n",
              "      --disabled-bg-color: #3B4455;\n",
              "      --disabled-fill-color: #666;\n",
              "  }\n",
              "\n",
              "  .colab-df-quickchart {\n",
              "    background-color: var(--bg-color);\n",
              "    border: none;\n",
              "    border-radius: 50%;\n",
              "    cursor: pointer;\n",
              "    display: none;\n",
              "    fill: var(--fill-color);\n",
              "    height: 32px;\n",
              "    padding: 0;\n",
              "    width: 32px;\n",
              "  }\n",
              "\n",
              "  .colab-df-quickchart:hover {\n",
              "    background-color: var(--hover-bg-color);\n",
              "    box-shadow: 0 1px 2px rgba(60, 64, 67, 0.3), 0 1px 3px 1px rgba(60, 64, 67, 0.15);\n",
              "    fill: var(--button-hover-fill-color);\n",
              "  }\n",
              "\n",
              "  .colab-df-quickchart-complete:disabled,\n",
              "  .colab-df-quickchart-complete:disabled:hover {\n",
              "    background-color: var(--disabled-bg-color);\n",
              "    fill: var(--disabled-fill-color);\n",
              "    box-shadow: none;\n",
              "  }\n",
              "\n",
              "  .colab-df-spinner {\n",
              "    border: 2px solid var(--fill-color);\n",
              "    border-color: transparent;\n",
              "    border-bottom-color: var(--fill-color);\n",
              "    animation:\n",
              "      spin 1s steps(1) infinite;\n",
              "  }\n",
              "\n",
              "  @keyframes spin {\n",
              "    0% {\n",
              "      border-color: transparent;\n",
              "      border-bottom-color: var(--fill-color);\n",
              "      border-left-color: var(--fill-color);\n",
              "    }\n",
              "    20% {\n",
              "      border-color: transparent;\n",
              "      border-left-color: var(--fill-color);\n",
              "      border-top-color: var(--fill-color);\n",
              "    }\n",
              "    30% {\n",
              "      border-color: transparent;\n",
              "      border-left-color: var(--fill-color);\n",
              "      border-top-color: var(--fill-color);\n",
              "      border-right-color: var(--fill-color);\n",
              "    }\n",
              "    40% {\n",
              "      border-color: transparent;\n",
              "      border-right-color: var(--fill-color);\n",
              "      border-top-color: var(--fill-color);\n",
              "    }\n",
              "    60% {\n",
              "      border-color: transparent;\n",
              "      border-right-color: var(--fill-color);\n",
              "    }\n",
              "    80% {\n",
              "      border-color: transparent;\n",
              "      border-right-color: var(--fill-color);\n",
              "      border-bottom-color: var(--fill-color);\n",
              "    }\n",
              "    90% {\n",
              "      border-color: transparent;\n",
              "      border-bottom-color: var(--fill-color);\n",
              "    }\n",
              "  }\n",
              "</style>\n",
              "\n",
              "  <script>\n",
              "    async function quickchart(key) {\n",
              "      const quickchartButtonEl =\n",
              "        document.querySelector('#' + key + ' button');\n",
              "      quickchartButtonEl.disabled = true;  // To prevent multiple clicks.\n",
              "      quickchartButtonEl.classList.add('colab-df-spinner');\n",
              "      try {\n",
              "        const charts = await google.colab.kernel.invokeFunction(\n",
              "            'suggestCharts', [key], {});\n",
              "      } catch (error) {\n",
              "        console.error('Error during call to suggestCharts:', error);\n",
              "      }\n",
              "      quickchartButtonEl.classList.remove('colab-df-spinner');\n",
              "      quickchartButtonEl.classList.add('colab-df-quickchart-complete');\n",
              "    }\n",
              "    (() => {\n",
              "      let quickchartButtonEl =\n",
              "        document.querySelector('#df-f3612921-b12b-4806-942b-eac114d05f56 button');\n",
              "      quickchartButtonEl.style.display =\n",
              "        google.colab.kernel.accessAllowed ? 'block' : 'none';\n",
              "    })();\n",
              "  </script>\n",
              "</div>\n",
              "\n",
              "    </div>\n",
              "  </div>\n"
            ],
            "application/vnd.google.colaboratory.intrinsic+json": {
              "type": "dataframe",
              "variable_name": "df",
              "summary": "{\n  \"name\": \"df\",\n  \"rows\": 21,\n  \"fields\": [\n    {\n      \"column\": \"Femur_length\",\n      \"properties\": {\n        \"dtype\": \"number\",\n        \"std\": 9.307255234493143,\n        \"min\": 35.0,\n        \"max\": 65.0,\n        \"num_unique_values\": 21,\n        \"samples\": [\n          35.0,\n          60.5,\n          57.5\n        ],\n        \"semantic_type\": \"\",\n        \"description\": \"\"\n      }\n    },\n    {\n      \"column\": \"Human_height\",\n      \"properties\": {\n        \"dtype\": \"number\",\n        \"std\": 23.358588717030333,\n        \"min\": 145.75166215012945,\n        \"max\": 215.83945919564343,\n        \"num_unique_values\": 21,\n        \"samples\": [\n          145.75166215012945,\n          202.0614375777851,\n          201.607658163735\n        ],\n        \"semantic_type\": \"\",\n        \"description\": \"\"\n      }\n    }\n  ]\n}"
            }
          },
          "metadata": {},
          "execution_count": 4
        }
      ]
    },
    {
      "cell_type": "code",
      "source": [
        "df.info()"
      ],
      "metadata": {
        "colab": {
          "base_uri": "https://localhost:8080/"
        },
        "id": "qp_9VEP07Awy",
        "outputId": "fc90ec2e-180e-4c32-eebd-441e264faa8b"
      },
      "execution_count": 5,
      "outputs": [
        {
          "output_type": "stream",
          "name": "stdout",
          "text": [
            "<class 'pandas.core.frame.DataFrame'>\n",
            "RangeIndex: 21 entries, 0 to 20\n",
            "Data columns (total 2 columns):\n",
            " #   Column        Non-Null Count  Dtype  \n",
            "---  ------        --------------  -----  \n",
            " 0   Femur_length  21 non-null     float64\n",
            " 1   Human_height  21 non-null     float64\n",
            "dtypes: float64(2)\n",
            "memory usage: 464.0 bytes\n"
          ]
        }
      ]
    },
    {
      "cell_type": "code",
      "source": [
        "df.describe()"
      ],
      "metadata": {
        "colab": {
          "base_uri": "https://localhost:8080/",
          "height": 300
        },
        "id": "IjjEPgWy7Eht",
        "outputId": "a1518906-f130-4994-e12f-fd7532d2e252"
      },
      "execution_count": 6,
      "outputs": [
        {
          "output_type": "execute_result",
          "data": {
            "text/plain": [
              "       Femur_length  Human_height\n",
              "count     21.000000     21.000000\n",
              "mean      50.000000    180.752037\n",
              "std        9.307255     23.358589\n",
              "min       35.000000    145.751662\n",
              "25%       42.500000    164.732758\n",
              "50%       50.000000    182.076381\n",
              "75%       57.500000    201.607658\n",
              "max       65.000000    215.839459"
            ],
            "text/html": [
              "\n",
              "  <div id=\"df-affc3ca7-ff34-4f2f-b3a7-bdf7a98fd9ee\" class=\"colab-df-container\">\n",
              "    <div>\n",
              "<style scoped>\n",
              "    .dataframe tbody tr th:only-of-type {\n",
              "        vertical-align: middle;\n",
              "    }\n",
              "\n",
              "    .dataframe tbody tr th {\n",
              "        vertical-align: top;\n",
              "    }\n",
              "\n",
              "    .dataframe thead th {\n",
              "        text-align: right;\n",
              "    }\n",
              "</style>\n",
              "<table border=\"1\" class=\"dataframe\">\n",
              "  <thead>\n",
              "    <tr style=\"text-align: right;\">\n",
              "      <th></th>\n",
              "      <th>Femur_length</th>\n",
              "      <th>Human_height</th>\n",
              "    </tr>\n",
              "  </thead>\n",
              "  <tbody>\n",
              "    <tr>\n",
              "      <th>count</th>\n",
              "      <td>21.000000</td>\n",
              "      <td>21.000000</td>\n",
              "    </tr>\n",
              "    <tr>\n",
              "      <th>mean</th>\n",
              "      <td>50.000000</td>\n",
              "      <td>180.752037</td>\n",
              "    </tr>\n",
              "    <tr>\n",
              "      <th>std</th>\n",
              "      <td>9.307255</td>\n",
              "      <td>23.358589</td>\n",
              "    </tr>\n",
              "    <tr>\n",
              "      <th>min</th>\n",
              "      <td>35.000000</td>\n",
              "      <td>145.751662</td>\n",
              "    </tr>\n",
              "    <tr>\n",
              "      <th>25%</th>\n",
              "      <td>42.500000</td>\n",
              "      <td>164.732758</td>\n",
              "    </tr>\n",
              "    <tr>\n",
              "      <th>50%</th>\n",
              "      <td>50.000000</td>\n",
              "      <td>182.076381</td>\n",
              "    </tr>\n",
              "    <tr>\n",
              "      <th>75%</th>\n",
              "      <td>57.500000</td>\n",
              "      <td>201.607658</td>\n",
              "    </tr>\n",
              "    <tr>\n",
              "      <th>max</th>\n",
              "      <td>65.000000</td>\n",
              "      <td>215.839459</td>\n",
              "    </tr>\n",
              "  </tbody>\n",
              "</table>\n",
              "</div>\n",
              "    <div class=\"colab-df-buttons\">\n",
              "\n",
              "  <div class=\"colab-df-container\">\n",
              "    <button class=\"colab-df-convert\" onclick=\"convertToInteractive('df-affc3ca7-ff34-4f2f-b3a7-bdf7a98fd9ee')\"\n",
              "            title=\"Convert this dataframe to an interactive table.\"\n",
              "            style=\"display:none;\">\n",
              "\n",
              "  <svg xmlns=\"http://www.w3.org/2000/svg\" height=\"24px\" viewBox=\"0 -960 960 960\">\n",
              "    <path d=\"M120-120v-720h720v720H120Zm60-500h600v-160H180v160Zm220 220h160v-160H400v160Zm0 220h160v-160H400v160ZM180-400h160v-160H180v160Zm440 0h160v-160H620v160ZM180-180h160v-160H180v160Zm440 0h160v-160H620v160Z\"/>\n",
              "  </svg>\n",
              "    </button>\n",
              "\n",
              "  <style>\n",
              "    .colab-df-container {\n",
              "      display:flex;\n",
              "      gap: 12px;\n",
              "    }\n",
              "\n",
              "    .colab-df-convert {\n",
              "      background-color: #E8F0FE;\n",
              "      border: none;\n",
              "      border-radius: 50%;\n",
              "      cursor: pointer;\n",
              "      display: none;\n",
              "      fill: #1967D2;\n",
              "      height: 32px;\n",
              "      padding: 0 0 0 0;\n",
              "      width: 32px;\n",
              "    }\n",
              "\n",
              "    .colab-df-convert:hover {\n",
              "      background-color: #E2EBFA;\n",
              "      box-shadow: 0px 1px 2px rgba(60, 64, 67, 0.3), 0px 1px 3px 1px rgba(60, 64, 67, 0.15);\n",
              "      fill: #174EA6;\n",
              "    }\n",
              "\n",
              "    .colab-df-buttons div {\n",
              "      margin-bottom: 4px;\n",
              "    }\n",
              "\n",
              "    [theme=dark] .colab-df-convert {\n",
              "      background-color: #3B4455;\n",
              "      fill: #D2E3FC;\n",
              "    }\n",
              "\n",
              "    [theme=dark] .colab-df-convert:hover {\n",
              "      background-color: #434B5C;\n",
              "      box-shadow: 0px 1px 3px 1px rgba(0, 0, 0, 0.15);\n",
              "      filter: drop-shadow(0px 1px 2px rgba(0, 0, 0, 0.3));\n",
              "      fill: #FFFFFF;\n",
              "    }\n",
              "  </style>\n",
              "\n",
              "    <script>\n",
              "      const buttonEl =\n",
              "        document.querySelector('#df-affc3ca7-ff34-4f2f-b3a7-bdf7a98fd9ee button.colab-df-convert');\n",
              "      buttonEl.style.display =\n",
              "        google.colab.kernel.accessAllowed ? 'block' : 'none';\n",
              "\n",
              "      async function convertToInteractive(key) {\n",
              "        const element = document.querySelector('#df-affc3ca7-ff34-4f2f-b3a7-bdf7a98fd9ee');\n",
              "        const dataTable =\n",
              "          await google.colab.kernel.invokeFunction('convertToInteractive',\n",
              "                                                    [key], {});\n",
              "        if (!dataTable) return;\n",
              "\n",
              "        const docLinkHtml = 'Like what you see? Visit the ' +\n",
              "          '<a target=\"_blank\" href=https://colab.research.google.com/notebooks/data_table.ipynb>data table notebook</a>'\n",
              "          + ' to learn more about interactive tables.';\n",
              "        element.innerHTML = '';\n",
              "        dataTable['output_type'] = 'display_data';\n",
              "        await google.colab.output.renderOutput(dataTable, element);\n",
              "        const docLink = document.createElement('div');\n",
              "        docLink.innerHTML = docLinkHtml;\n",
              "        element.appendChild(docLink);\n",
              "      }\n",
              "    </script>\n",
              "  </div>\n",
              "\n",
              "\n",
              "<div id=\"df-78bbaebc-f238-41aa-b603-4e0d5d35c8fd\">\n",
              "  <button class=\"colab-df-quickchart\" onclick=\"quickchart('df-78bbaebc-f238-41aa-b603-4e0d5d35c8fd')\"\n",
              "            title=\"Suggest charts\"\n",
              "            style=\"display:none;\">\n",
              "\n",
              "<svg xmlns=\"http://www.w3.org/2000/svg\" height=\"24px\"viewBox=\"0 0 24 24\"\n",
              "     width=\"24px\">\n",
              "    <g>\n",
              "        <path d=\"M19 3H5c-1.1 0-2 .9-2 2v14c0 1.1.9 2 2 2h14c1.1 0 2-.9 2-2V5c0-1.1-.9-2-2-2zM9 17H7v-7h2v7zm4 0h-2V7h2v10zm4 0h-2v-4h2v4z\"/>\n",
              "    </g>\n",
              "</svg>\n",
              "  </button>\n",
              "\n",
              "<style>\n",
              "  .colab-df-quickchart {\n",
              "      --bg-color: #E8F0FE;\n",
              "      --fill-color: #1967D2;\n",
              "      --hover-bg-color: #E2EBFA;\n",
              "      --hover-fill-color: #174EA6;\n",
              "      --disabled-fill-color: #AAA;\n",
              "      --disabled-bg-color: #DDD;\n",
              "  }\n",
              "\n",
              "  [theme=dark] .colab-df-quickchart {\n",
              "      --bg-color: #3B4455;\n",
              "      --fill-color: #D2E3FC;\n",
              "      --hover-bg-color: #434B5C;\n",
              "      --hover-fill-color: #FFFFFF;\n",
              "      --disabled-bg-color: #3B4455;\n",
              "      --disabled-fill-color: #666;\n",
              "  }\n",
              "\n",
              "  .colab-df-quickchart {\n",
              "    background-color: var(--bg-color);\n",
              "    border: none;\n",
              "    border-radius: 50%;\n",
              "    cursor: pointer;\n",
              "    display: none;\n",
              "    fill: var(--fill-color);\n",
              "    height: 32px;\n",
              "    padding: 0;\n",
              "    width: 32px;\n",
              "  }\n",
              "\n",
              "  .colab-df-quickchart:hover {\n",
              "    background-color: var(--hover-bg-color);\n",
              "    box-shadow: 0 1px 2px rgba(60, 64, 67, 0.3), 0 1px 3px 1px rgba(60, 64, 67, 0.15);\n",
              "    fill: var(--button-hover-fill-color);\n",
              "  }\n",
              "\n",
              "  .colab-df-quickchart-complete:disabled,\n",
              "  .colab-df-quickchart-complete:disabled:hover {\n",
              "    background-color: var(--disabled-bg-color);\n",
              "    fill: var(--disabled-fill-color);\n",
              "    box-shadow: none;\n",
              "  }\n",
              "\n",
              "  .colab-df-spinner {\n",
              "    border: 2px solid var(--fill-color);\n",
              "    border-color: transparent;\n",
              "    border-bottom-color: var(--fill-color);\n",
              "    animation:\n",
              "      spin 1s steps(1) infinite;\n",
              "  }\n",
              "\n",
              "  @keyframes spin {\n",
              "    0% {\n",
              "      border-color: transparent;\n",
              "      border-bottom-color: var(--fill-color);\n",
              "      border-left-color: var(--fill-color);\n",
              "    }\n",
              "    20% {\n",
              "      border-color: transparent;\n",
              "      border-left-color: var(--fill-color);\n",
              "      border-top-color: var(--fill-color);\n",
              "    }\n",
              "    30% {\n",
              "      border-color: transparent;\n",
              "      border-left-color: var(--fill-color);\n",
              "      border-top-color: var(--fill-color);\n",
              "      border-right-color: var(--fill-color);\n",
              "    }\n",
              "    40% {\n",
              "      border-color: transparent;\n",
              "      border-right-color: var(--fill-color);\n",
              "      border-top-color: var(--fill-color);\n",
              "    }\n",
              "    60% {\n",
              "      border-color: transparent;\n",
              "      border-right-color: var(--fill-color);\n",
              "    }\n",
              "    80% {\n",
              "      border-color: transparent;\n",
              "      border-right-color: var(--fill-color);\n",
              "      border-bottom-color: var(--fill-color);\n",
              "    }\n",
              "    90% {\n",
              "      border-color: transparent;\n",
              "      border-bottom-color: var(--fill-color);\n",
              "    }\n",
              "  }\n",
              "</style>\n",
              "\n",
              "  <script>\n",
              "    async function quickchart(key) {\n",
              "      const quickchartButtonEl =\n",
              "        document.querySelector('#' + key + ' button');\n",
              "      quickchartButtonEl.disabled = true;  // To prevent multiple clicks.\n",
              "      quickchartButtonEl.classList.add('colab-df-spinner');\n",
              "      try {\n",
              "        const charts = await google.colab.kernel.invokeFunction(\n",
              "            'suggestCharts', [key], {});\n",
              "      } catch (error) {\n",
              "        console.error('Error during call to suggestCharts:', error);\n",
              "      }\n",
              "      quickchartButtonEl.classList.remove('colab-df-spinner');\n",
              "      quickchartButtonEl.classList.add('colab-df-quickchart-complete');\n",
              "    }\n",
              "    (() => {\n",
              "      let quickchartButtonEl =\n",
              "        document.querySelector('#df-78bbaebc-f238-41aa-b603-4e0d5d35c8fd button');\n",
              "      quickchartButtonEl.style.display =\n",
              "        google.colab.kernel.accessAllowed ? 'block' : 'none';\n",
              "    })();\n",
              "  </script>\n",
              "</div>\n",
              "\n",
              "    </div>\n",
              "  </div>\n"
            ],
            "application/vnd.google.colaboratory.intrinsic+json": {
              "type": "dataframe",
              "summary": "{\n  \"name\": \"df\",\n  \"rows\": 8,\n  \"fields\": [\n    {\n      \"column\": \"Femur_length\",\n      \"properties\": {\n        \"dtype\": \"number\",\n        \"std\": 18.71693138170405,\n        \"min\": 9.307255234493143,\n        \"max\": 65.0,\n        \"num_unique_values\": 7,\n        \"samples\": [\n          21.0,\n          50.0,\n          57.5\n        ],\n        \"semantic_type\": \"\",\n        \"description\": \"\"\n      }\n    },\n    {\n      \"column\": \"Human_height\",\n      \"properties\": {\n        \"dtype\": \"number\",\n        \"std\": 76.8678977552359,\n        \"min\": 21.0,\n        \"max\": 215.83945919564343,\n        \"num_unique_values\": 8,\n        \"samples\": [\n          180.7520369774093,\n          182.0763807827905,\n          21.0\n        ],\n        \"semantic_type\": \"\",\n        \"description\": \"\"\n      }\n    }\n  ]\n}"
            }
          },
          "metadata": {},
          "execution_count": 6
        }
      ]
    },
    {
      "cell_type": "code",
      "source": [
        "df.isnull().sum()#number of nulls"
      ],
      "metadata": {
        "colab": {
          "base_uri": "https://localhost:8080/",
          "height": 146
        },
        "id": "uxTve5An7H0f",
        "outputId": "8c580261-e900-46e8-8633-59e705588344"
      },
      "execution_count": 7,
      "outputs": [
        {
          "output_type": "execute_result",
          "data": {
            "text/plain": [
              "Femur_length    0\n",
              "Human_height    0\n",
              "dtype: int64"
            ],
            "text/html": [
              "<div>\n",
              "<style scoped>\n",
              "    .dataframe tbody tr th:only-of-type {\n",
              "        vertical-align: middle;\n",
              "    }\n",
              "\n",
              "    .dataframe tbody tr th {\n",
              "        vertical-align: top;\n",
              "    }\n",
              "\n",
              "    .dataframe thead th {\n",
              "        text-align: right;\n",
              "    }\n",
              "</style>\n",
              "<table border=\"1\" class=\"dataframe\">\n",
              "  <thead>\n",
              "    <tr style=\"text-align: right;\">\n",
              "      <th></th>\n",
              "      <th>0</th>\n",
              "    </tr>\n",
              "  </thead>\n",
              "  <tbody>\n",
              "    <tr>\n",
              "      <th>Femur_length</th>\n",
              "      <td>0</td>\n",
              "    </tr>\n",
              "    <tr>\n",
              "      <th>Human_height</th>\n",
              "      <td>0</td>\n",
              "    </tr>\n",
              "  </tbody>\n",
              "</table>\n",
              "</div><br><label><b>dtype:</b> int64</label>"
            ]
          },
          "metadata": {},
          "execution_count": 7
        }
      ]
    },
    {
      "cell_type": "code",
      "source": [
        "df.isna().sum()"
      ],
      "metadata": {
        "colab": {
          "base_uri": "https://localhost:8080/",
          "height": 146
        },
        "id": "On-_ykHg7iue",
        "outputId": "3aa72194-b783-40ff-e47c-d3b208a70b57"
      },
      "execution_count": 8,
      "outputs": [
        {
          "output_type": "execute_result",
          "data": {
            "text/plain": [
              "Femur_length    0\n",
              "Human_height    0\n",
              "dtype: int64"
            ],
            "text/html": [
              "<div>\n",
              "<style scoped>\n",
              "    .dataframe tbody tr th:only-of-type {\n",
              "        vertical-align: middle;\n",
              "    }\n",
              "\n",
              "    .dataframe tbody tr th {\n",
              "        vertical-align: top;\n",
              "    }\n",
              "\n",
              "    .dataframe thead th {\n",
              "        text-align: right;\n",
              "    }\n",
              "</style>\n",
              "<table border=\"1\" class=\"dataframe\">\n",
              "  <thead>\n",
              "    <tr style=\"text-align: right;\">\n",
              "      <th></th>\n",
              "      <th>0</th>\n",
              "    </tr>\n",
              "  </thead>\n",
              "  <tbody>\n",
              "    <tr>\n",
              "      <th>Femur_length</th>\n",
              "      <td>0</td>\n",
              "    </tr>\n",
              "    <tr>\n",
              "      <th>Human_height</th>\n",
              "      <td>0</td>\n",
              "    </tr>\n",
              "  </tbody>\n",
              "</table>\n",
              "</div><br><label><b>dtype:</b> int64</label>"
            ]
          },
          "metadata": {},
          "execution_count": 8
        }
      ]
    },
    {
      "cell_type": "code",
      "source": [
        "df.shape"
      ],
      "metadata": {
        "colab": {
          "base_uri": "https://localhost:8080/"
        },
        "id": "t1JTX02H7owY",
        "outputId": "a617e794-b148-4ec2-878f-2f7737151b12"
      },
      "execution_count": 9,
      "outputs": [
        {
          "output_type": "execute_result",
          "data": {
            "text/plain": [
              "(21, 2)"
            ]
          },
          "metadata": {},
          "execution_count": 9
        }
      ]
    },
    {
      "cell_type": "code",
      "source": [
        "df.corr()#positive corrolatin"
      ],
      "metadata": {
        "colab": {
          "base_uri": "https://localhost:8080/",
          "height": 112
        },
        "id": "apd58Yn57x64",
        "outputId": "4498e521-4413-42b7-991e-23570ac98ecf"
      },
      "execution_count": 10,
      "outputs": [
        {
          "output_type": "execute_result",
          "data": {
            "text/plain": [
              "              Femur_length  Human_height\n",
              "Femur_length      1.000000      0.963654\n",
              "Human_height      0.963654      1.000000"
            ],
            "text/html": [
              "\n",
              "  <div id=\"df-e43ab2e7-8c8b-4545-9962-fb1a256a0de3\" class=\"colab-df-container\">\n",
              "    <div>\n",
              "<style scoped>\n",
              "    .dataframe tbody tr th:only-of-type {\n",
              "        vertical-align: middle;\n",
              "    }\n",
              "\n",
              "    .dataframe tbody tr th {\n",
              "        vertical-align: top;\n",
              "    }\n",
              "\n",
              "    .dataframe thead th {\n",
              "        text-align: right;\n",
              "    }\n",
              "</style>\n",
              "<table border=\"1\" class=\"dataframe\">\n",
              "  <thead>\n",
              "    <tr style=\"text-align: right;\">\n",
              "      <th></th>\n",
              "      <th>Femur_length</th>\n",
              "      <th>Human_height</th>\n",
              "    </tr>\n",
              "  </thead>\n",
              "  <tbody>\n",
              "    <tr>\n",
              "      <th>Femur_length</th>\n",
              "      <td>1.000000</td>\n",
              "      <td>0.963654</td>\n",
              "    </tr>\n",
              "    <tr>\n",
              "      <th>Human_height</th>\n",
              "      <td>0.963654</td>\n",
              "      <td>1.000000</td>\n",
              "    </tr>\n",
              "  </tbody>\n",
              "</table>\n",
              "</div>\n",
              "    <div class=\"colab-df-buttons\">\n",
              "\n",
              "  <div class=\"colab-df-container\">\n",
              "    <button class=\"colab-df-convert\" onclick=\"convertToInteractive('df-e43ab2e7-8c8b-4545-9962-fb1a256a0de3')\"\n",
              "            title=\"Convert this dataframe to an interactive table.\"\n",
              "            style=\"display:none;\">\n",
              "\n",
              "  <svg xmlns=\"http://www.w3.org/2000/svg\" height=\"24px\" viewBox=\"0 -960 960 960\">\n",
              "    <path d=\"M120-120v-720h720v720H120Zm60-500h600v-160H180v160Zm220 220h160v-160H400v160Zm0 220h160v-160H400v160ZM180-400h160v-160H180v160Zm440 0h160v-160H620v160ZM180-180h160v-160H180v160Zm440 0h160v-160H620v160Z\"/>\n",
              "  </svg>\n",
              "    </button>\n",
              "\n",
              "  <style>\n",
              "    .colab-df-container {\n",
              "      display:flex;\n",
              "      gap: 12px;\n",
              "    }\n",
              "\n",
              "    .colab-df-convert {\n",
              "      background-color: #E8F0FE;\n",
              "      border: none;\n",
              "      border-radius: 50%;\n",
              "      cursor: pointer;\n",
              "      display: none;\n",
              "      fill: #1967D2;\n",
              "      height: 32px;\n",
              "      padding: 0 0 0 0;\n",
              "      width: 32px;\n",
              "    }\n",
              "\n",
              "    .colab-df-convert:hover {\n",
              "      background-color: #E2EBFA;\n",
              "      box-shadow: 0px 1px 2px rgba(60, 64, 67, 0.3), 0px 1px 3px 1px rgba(60, 64, 67, 0.15);\n",
              "      fill: #174EA6;\n",
              "    }\n",
              "\n",
              "    .colab-df-buttons div {\n",
              "      margin-bottom: 4px;\n",
              "    }\n",
              "\n",
              "    [theme=dark] .colab-df-convert {\n",
              "      background-color: #3B4455;\n",
              "      fill: #D2E3FC;\n",
              "    }\n",
              "\n",
              "    [theme=dark] .colab-df-convert:hover {\n",
              "      background-color: #434B5C;\n",
              "      box-shadow: 0px 1px 3px 1px rgba(0, 0, 0, 0.15);\n",
              "      filter: drop-shadow(0px 1px 2px rgba(0, 0, 0, 0.3));\n",
              "      fill: #FFFFFF;\n",
              "    }\n",
              "  </style>\n",
              "\n",
              "    <script>\n",
              "      const buttonEl =\n",
              "        document.querySelector('#df-e43ab2e7-8c8b-4545-9962-fb1a256a0de3 button.colab-df-convert');\n",
              "      buttonEl.style.display =\n",
              "        google.colab.kernel.accessAllowed ? 'block' : 'none';\n",
              "\n",
              "      async function convertToInteractive(key) {\n",
              "        const element = document.querySelector('#df-e43ab2e7-8c8b-4545-9962-fb1a256a0de3');\n",
              "        const dataTable =\n",
              "          await google.colab.kernel.invokeFunction('convertToInteractive',\n",
              "                                                    [key], {});\n",
              "        if (!dataTable) return;\n",
              "\n",
              "        const docLinkHtml = 'Like what you see? Visit the ' +\n",
              "          '<a target=\"_blank\" href=https://colab.research.google.com/notebooks/data_table.ipynb>data table notebook</a>'\n",
              "          + ' to learn more about interactive tables.';\n",
              "        element.innerHTML = '';\n",
              "        dataTable['output_type'] = 'display_data';\n",
              "        await google.colab.output.renderOutput(dataTable, element);\n",
              "        const docLink = document.createElement('div');\n",
              "        docLink.innerHTML = docLinkHtml;\n",
              "        element.appendChild(docLink);\n",
              "      }\n",
              "    </script>\n",
              "  </div>\n",
              "\n",
              "\n",
              "<div id=\"df-07580456-518b-48fb-aef8-8d43ae9210cb\">\n",
              "  <button class=\"colab-df-quickchart\" onclick=\"quickchart('df-07580456-518b-48fb-aef8-8d43ae9210cb')\"\n",
              "            title=\"Suggest charts\"\n",
              "            style=\"display:none;\">\n",
              "\n",
              "<svg xmlns=\"http://www.w3.org/2000/svg\" height=\"24px\"viewBox=\"0 0 24 24\"\n",
              "     width=\"24px\">\n",
              "    <g>\n",
              "        <path d=\"M19 3H5c-1.1 0-2 .9-2 2v14c0 1.1.9 2 2 2h14c1.1 0 2-.9 2-2V5c0-1.1-.9-2-2-2zM9 17H7v-7h2v7zm4 0h-2V7h2v10zm4 0h-2v-4h2v4z\"/>\n",
              "    </g>\n",
              "</svg>\n",
              "  </button>\n",
              "\n",
              "<style>\n",
              "  .colab-df-quickchart {\n",
              "      --bg-color: #E8F0FE;\n",
              "      --fill-color: #1967D2;\n",
              "      --hover-bg-color: #E2EBFA;\n",
              "      --hover-fill-color: #174EA6;\n",
              "      --disabled-fill-color: #AAA;\n",
              "      --disabled-bg-color: #DDD;\n",
              "  }\n",
              "\n",
              "  [theme=dark] .colab-df-quickchart {\n",
              "      --bg-color: #3B4455;\n",
              "      --fill-color: #D2E3FC;\n",
              "      --hover-bg-color: #434B5C;\n",
              "      --hover-fill-color: #FFFFFF;\n",
              "      --disabled-bg-color: #3B4455;\n",
              "      --disabled-fill-color: #666;\n",
              "  }\n",
              "\n",
              "  .colab-df-quickchart {\n",
              "    background-color: var(--bg-color);\n",
              "    border: none;\n",
              "    border-radius: 50%;\n",
              "    cursor: pointer;\n",
              "    display: none;\n",
              "    fill: var(--fill-color);\n",
              "    height: 32px;\n",
              "    padding: 0;\n",
              "    width: 32px;\n",
              "  }\n",
              "\n",
              "  .colab-df-quickchart:hover {\n",
              "    background-color: var(--hover-bg-color);\n",
              "    box-shadow: 0 1px 2px rgba(60, 64, 67, 0.3), 0 1px 3px 1px rgba(60, 64, 67, 0.15);\n",
              "    fill: var(--button-hover-fill-color);\n",
              "  }\n",
              "\n",
              "  .colab-df-quickchart-complete:disabled,\n",
              "  .colab-df-quickchart-complete:disabled:hover {\n",
              "    background-color: var(--disabled-bg-color);\n",
              "    fill: var(--disabled-fill-color);\n",
              "    box-shadow: none;\n",
              "  }\n",
              "\n",
              "  .colab-df-spinner {\n",
              "    border: 2px solid var(--fill-color);\n",
              "    border-color: transparent;\n",
              "    border-bottom-color: var(--fill-color);\n",
              "    animation:\n",
              "      spin 1s steps(1) infinite;\n",
              "  }\n",
              "\n",
              "  @keyframes spin {\n",
              "    0% {\n",
              "      border-color: transparent;\n",
              "      border-bottom-color: var(--fill-color);\n",
              "      border-left-color: var(--fill-color);\n",
              "    }\n",
              "    20% {\n",
              "      border-color: transparent;\n",
              "      border-left-color: var(--fill-color);\n",
              "      border-top-color: var(--fill-color);\n",
              "    }\n",
              "    30% {\n",
              "      border-color: transparent;\n",
              "      border-left-color: var(--fill-color);\n",
              "      border-top-color: var(--fill-color);\n",
              "      border-right-color: var(--fill-color);\n",
              "    }\n",
              "    40% {\n",
              "      border-color: transparent;\n",
              "      border-right-color: var(--fill-color);\n",
              "      border-top-color: var(--fill-color);\n",
              "    }\n",
              "    60% {\n",
              "      border-color: transparent;\n",
              "      border-right-color: var(--fill-color);\n",
              "    }\n",
              "    80% {\n",
              "      border-color: transparent;\n",
              "      border-right-color: var(--fill-color);\n",
              "      border-bottom-color: var(--fill-color);\n",
              "    }\n",
              "    90% {\n",
              "      border-color: transparent;\n",
              "      border-bottom-color: var(--fill-color);\n",
              "    }\n",
              "  }\n",
              "</style>\n",
              "\n",
              "  <script>\n",
              "    async function quickchart(key) {\n",
              "      const quickchartButtonEl =\n",
              "        document.querySelector('#' + key + ' button');\n",
              "      quickchartButtonEl.disabled = true;  // To prevent multiple clicks.\n",
              "      quickchartButtonEl.classList.add('colab-df-spinner');\n",
              "      try {\n",
              "        const charts = await google.colab.kernel.invokeFunction(\n",
              "            'suggestCharts', [key], {});\n",
              "      } catch (error) {\n",
              "        console.error('Error during call to suggestCharts:', error);\n",
              "      }\n",
              "      quickchartButtonEl.classList.remove('colab-df-spinner');\n",
              "      quickchartButtonEl.classList.add('colab-df-quickchart-complete');\n",
              "    }\n",
              "    (() => {\n",
              "      let quickchartButtonEl =\n",
              "        document.querySelector('#df-07580456-518b-48fb-aef8-8d43ae9210cb button');\n",
              "      quickchartButtonEl.style.display =\n",
              "        google.colab.kernel.accessAllowed ? 'block' : 'none';\n",
              "    })();\n",
              "  </script>\n",
              "</div>\n",
              "\n",
              "    </div>\n",
              "  </div>\n"
            ],
            "application/vnd.google.colaboratory.intrinsic+json": {
              "type": "dataframe",
              "summary": "{\n  \"name\": \"df\",\n  \"rows\": 2,\n  \"fields\": [\n    {\n      \"column\": \"Femur_length\",\n      \"properties\": {\n        \"dtype\": \"number\",\n        \"std\": 0.025700391147065644,\n        \"min\": 0.9636541582815263,\n        \"max\": 1.0,\n        \"num_unique_values\": 2,\n        \"samples\": [\n          0.9636541582815263,\n          1.0\n        ],\n        \"semantic_type\": \"\",\n        \"description\": \"\"\n      }\n    },\n    {\n      \"column\": \"Human_height\",\n      \"properties\": {\n        \"dtype\": \"number\",\n        \"std\": 0.025700391147065644,\n        \"min\": 0.9636541582815263,\n        \"max\": 1.0,\n        \"num_unique_values\": 2,\n        \"samples\": [\n          1.0,\n          0.9636541582815263\n        ],\n        \"semantic_type\": \"\",\n        \"description\": \"\"\n      }\n    }\n  ]\n}"
            }
          },
          "metadata": {},
          "execution_count": 10
        }
      ]
    },
    {
      "cell_type": "code",
      "source": [
        "sns.pairplot(df)"
      ],
      "metadata": {
        "colab": {
          "base_uri": "https://localhost:8080/",
          "height": 531
        },
        "id": "PwHwWcHh71K_",
        "outputId": "fbed4892-f953-4fe7-a51a-5afa350cb6af"
      },
      "execution_count": 11,
      "outputs": [
        {
          "output_type": "execute_result",
          "data": {
            "text/plain": [
              "<seaborn.axisgrid.PairGrid at 0x79c7f0f92ef0>"
            ]
          },
          "metadata": {},
          "execution_count": 11
        },
        {
          "output_type": "display_data",
          "data": {
            "text/plain": [
              "<Figure size 500x500 with 6 Axes>"
            ],
            "image/png": "[encoded data removed]"
          },
          "metadata": {}
        }
      ]
    },
    {
      "cell_type": "code",
      "source": [
        "sns.scatterplot(x='Femur_length',y='Human_height',data=df)"
      ],
      "metadata": {
        "colab": {
          "base_uri": "https://localhost:8080/",
          "height": 468
        },
        "id": "fbOJT5cl8m5t",
        "outputId": "ef963527-eadf-4fd6-fe85-18f5769e43c2"
      },
      "execution_count": 12,
      "outputs": [
        {
          "output_type": "execute_result",
          "data": {
            "text/plain": [
              "<Axes: xlabel='Femur_length', ylabel='Human_height'>"
            ]
          },
          "metadata": {},
          "execution_count": 12
        },
        {
          "output_type": "display_data",
          "data": {
            "text/plain": [
              "<Figure size 640x480 with 1 Axes>"
            ],
            "image/png": "[encoded data removed]"
          },
          "metadata": {}
        }
      ]
    },
    {
      "cell_type": "code",
      "source": [
        "sns.histplot(df['Femur_length'],kde=True)"
      ],
      "metadata": {
        "colab": {
          "base_uri": "https://localhost:8080/",
          "height": 468
        },
        "id": "SepUPspJ822w",
        "outputId": "1f08f62d-b7ea-48ad-cd60-9b04d0bfea0f"
      },
      "execution_count": 13,
      "outputs": [
        {
          "output_type": "execute_result",
          "data": {
            "text/plain": [
              "<Axes: xlabel='Femur_length', ylabel='Count'>"
            ]
          },
          "metadata": {},
          "execution_count": 13
        },
        {
          "output_type": "display_data",
          "data": {
            "text/plain": [
              "<Figure size 640x480 with 1 Axes>"
            ],
            "image/png": "[encoded data removed]"
          },
          "metadata": {}
        }
      ]
    },
    {
      "cell_type": "code",
      "source": [
        "sns.histplot(df['Human_height'],kde=True)#destrubtion"
      ],
      "metadata": {
        "colab": {
          "base_uri": "https://localhost:8080/",
          "height": 468
        },
        "id": "bs0kht_L9EQl",
        "outputId": "c8d79120-31c7-4ad9-c14d-368c40ba0583"
      },
      "execution_count": 14,
      "outputs": [
        {
          "output_type": "execute_result",
          "data": {
            "text/plain": [
              "<Axes: xlabel='Human_height', ylabel='Count'>"
            ]
          },
          "metadata": {},
          "execution_count": 14
        },
        {
          "output_type": "display_data",
          "data": {
            "text/plain": [
              "<Figure size 640x480 with 1 Axes>"
            ],
            "image/png": "[encoded data removed]"
          },
          "metadata": {}
        }
      ]
    },
    {
      "cell_type": "code",
      "source": [
        "df.boxplot()\n"
      ],
      "metadata": {
        "colab": {
          "base_uri": "https://localhost:8080/",
          "height": 448
        },
        "id": "hIUzRzPQDH7l",
        "outputId": "8bd72675-1607-43e9-b5f7-1872943fefdf"
      },
      "execution_count": 17,
      "outputs": [
        {
          "output_type": "execute_result",
          "data": {
            "text/plain": [
              "<Axes: >"
            ]
          },
          "metadata": {},
          "execution_count": 17
        },
        {
          "output_type": "display_data",
          "data": {
            "text/plain": [
              "<Figure size 640x480 with 1 Axes>"
            ],
            "image/png": "[encoded data removed]"
          },
          "metadata": {}
        }
      ]
    },
    {
      "cell_type": "code",
      "source": [
        "# fitted regression line.\n",
        "sns.regplot(x='Femur_length',y='Human_height',data=df)"
      ],
      "metadata": {
        "colab": {
          "base_uri": "https://localhost:8080/",
          "height": 468
        },
        "id": "TcFke3SiDUTq",
        "outputId": "7ee5ee4d-4340-4a07-fabf-9974aade1418"
      },
      "execution_count": 18,
      "outputs": [
        {
          "output_type": "execute_result",
          "data": {
            "text/plain": [
              "<Axes: xlabel='Femur_length', ylabel='Human_height'>"
            ]
          },
          "metadata": {},
          "execution_count": 18
        },
        {
          "output_type": "display_data",
          "data": {
            "text/plain": [
              "<Figure size 640x480 with 1 Axes>"
            ],
            "image/png": "[encoded data removed]"
          },
          "metadata": {}
        }
      ]
    },
    {
      "cell_type": "code",
      "source": [
        "sns.heatmap(df.corr(),annot=True)"
      ],
      "metadata": {
        "colab": {
          "base_uri": "https://localhost:8080/",
          "height": 453
        },
        "id": "hn3KrqK2EFs2",
        "outputId": "f3b28c8d-5101-4d69-b0d5-e4dad9859114"
      },
      "execution_count": 24,
      "outputs": [
        {
          "output_type": "execute_result",
          "data": {
            "text/plain": [
              "<Axes: >"
            ]
          },
          "metadata": {},
          "execution_count": 24
        },
        {
          "output_type": "display_data",
          "data": {
            "text/plain": [
              "<Figure size 640x480 with 2 Axes>"
            ],
            "image/png": "[encoded data removed]"
          },
          "metadata": {}
        }
      ]
    },
    {
      "cell_type": "markdown",
      "source": [
        " #define target (y) and features (X)"
      ],
      "metadata": {
        "id": "r-799up2Ez0v"
      }
    },
    {
      "cell_type": "code",
      "source": [
        "x=df.drop('Human_height',axis=1)\n",
        "y=df['Human_height']"
      ],
      "metadata": {
        "id": "7RkL26ggEJ09"
      },
      "execution_count": 25,
      "outputs": []
    },
    {
      "cell_type": "code",
      "source": [
        "x"
      ],
      "metadata": {
        "colab": {
          "base_uri": "https://localhost:8080/",
          "height": 707
        },
        "id": "zki0XZ17E-er",
        "outputId": "0b4efdda-9e3c-454c-f255-50dc111ed2f1"
      },
      "execution_count": 26,
      "outputs": [
        {
          "output_type": "execute_result",
          "data": {
            "text/plain": [
              "    Femur_length\n",
              "0           35.0\n",
              "1           36.5\n",
              "2           38.0\n",
              "3           39.5\n",
              "4           41.0\n",
              "5           42.5\n",
              "6           44.0\n",
              "7           45.5\n",
              "8           47.0\n",
              "9           48.5\n",
              "10          50.0\n",
              "11          51.5\n",
              "12          53.0\n",
              "13          54.5\n",
              "14          56.0\n",
              "15          57.5\n",
              "16          59.0\n",
              "17          60.5\n",
              "18          62.0\n",
              "19          63.5\n",
              "20          65.0"
            ],
            "text/html": [
              "\n",
              "  <div id=\"df-cf41d040-569c-48f9-a8c7-857f73b897fe\" class=\"colab-df-container\">\n",
              "    <div>\n",
              "<style scoped>\n",
              "    .dataframe tbody tr th:only-of-type {\n",
              "        vertical-align: middle;\n",
              "    }\n",
              "\n",
              "    .dataframe tbody tr th {\n",
              "        vertical-align: top;\n",
              "    }\n",
              "\n",
              "    .dataframe thead th {\n",
              "        text-align: right;\n",
              "    }\n",
              "</style>\n",
              "<table border=\"1\" class=\"dataframe\">\n",
              "  <thead>\n",
              "    <tr style=\"text-align: right;\">\n",
              "      <th></th>\n",
              "      <th>Femur_length</th>\n",
              "    </tr>\n",
              "  </thead>\n",
              "  <tbody>\n",
              "    <tr>\n",
              "      <th>0</th>\n",
              "      <td>35.0</td>\n",
              "    </tr>\n",
              "    <tr>\n",
              "      <th>1</th>\n",
              "      <td>36.5</td>\n",
              "    </tr>\n",
              "    <tr>\n",
              "      <th>2</th>\n",
              "      <td>38.0</td>\n",
              "    </tr>\n",
              "    <tr>\n",
              "      <th>3</th>\n",
              "      <td>39.5</td>\n",
              "    </tr>\n",
              "    <tr>\n",
              "      <th>4</th>\n",
              "      <td>41.0</td>\n",
              "    </tr>\n",
              "    <tr>\n",
              "      <th>5</th>\n",
              "      <td>42.5</td>\n",
              "    </tr>\n",
              "    <tr>\n",
              "      <th>6</th>\n",
              "      <td>44.0</td>\n",
              "    </tr>\n",
              "    <tr>\n",
              "      <th>7</th>\n",
              "      <td>45.5</td>\n",
              "    </tr>\n",
              "    <tr>\n",
              "      <th>8</th>\n",
              "      <td>47.0</td>\n",
              "    </tr>\n",
              "    <tr>\n",
              "      <th>9</th>\n",
              "      <td>48.5</td>\n",
              "    </tr>\n",
              "    <tr>\n",
              "      <th>10</th>\n",
              "      <td>50.0</td>\n",
              "    </tr>\n",
              "    <tr>\n",
              "      <th>11</th>\n",
              "      <td>51.5</td>\n",
              "    </tr>\n",
              "    <tr>\n",
              "      <th>12</th>\n",
              "      <td>53.0</td>\n",
              "    </tr>\n",
              "    <tr>\n",
              "      <th>13</th>\n",
              "      <td>54.5</td>\n",
              "    </tr>\n",
              "    <tr>\n",
              "      <th>14</th>\n",
              "      <td>56.0</td>\n",
              "    </tr>\n",
              "    <tr>\n",
              "      <th>15</th>\n",
              "      <td>57.5</td>\n",
              "    </tr>\n",
              "    <tr>\n",
              "      <th>16</th>\n",
              "      <td>59.0</td>\n",
              "    </tr>\n",
              "    <tr>\n",
              "      <th>17</th>\n",
              "      <td>60.5</td>\n",
              "    </tr>\n",
              "    <tr>\n",
              "      <th>18</th>\n",
              "      <td>62.0</td>\n",
              "    </tr>\n",
              "    <tr>\n",
              "      <th>19</th>\n",
              "      <td>63.5</td>\n",
              "    </tr>\n",
              "    <tr>\n",
              "      <th>20</th>\n",
              "      <td>65.0</td>\n",
              "    </tr>\n",
              "  </tbody>\n",
              "</table>\n",
              "</div>\n",
              "    <div class=\"colab-df-buttons\">\n",
              "\n",
              "  <div class=\"colab-df-container\">\n",
              "    <button class=\"colab-df-convert\" onclick=\"convertToInteractive('df-cf41d040-569c-48f9-a8c7-857f73b897fe')\"\n",
              "            title=\"Convert this dataframe to an interactive table.\"\n",
              "            style=\"display:none;\">\n",
              "\n",
              "  <svg xmlns=\"http://www.w3.org/2000/svg\" height=\"24px\" viewBox=\"0 -960 960 960\">\n",
              "    <path d=\"M120-120v-720h720v720H120Zm60-500h600v-160H180v160Zm220 220h160v-160H400v160Zm0 220h160v-160H400v160ZM180-400h160v-160H180v160Zm440 0h160v-160H620v160ZM180-180h160v-160H180v160Zm440 0h160v-160H620v160Z\"/>\n",
              "  </svg>\n",
              "    </button>\n",
              "\n",
              "  <style>\n",
              "    .colab-df-container {\n",
              "      display:flex;\n",
              "      gap: 12px;\n",
              "    }\n",
              "\n",
              "    .colab-df-convert {\n",
              "      background-color: #E8F0FE;\n",
              "      border: none;\n",
              "      border-radius: 50%;\n",
              "      cursor: pointer;\n",
              "      display: none;\n",
              "      fill: #1967D2;\n",
              "      height: 32px;\n",
              "      padding: 0 0 0 0;\n",
              "      width: 32px;\n",
              "    }\n",
              "\n",
              "    .colab-df-convert:hover {\n",
              "      background-color: #E2EBFA;\n",
              "      box-shadow: 0px 1px 2px rgba(60, 64, 67, 0.3), 0px 1px 3px 1px rgba(60, 64, 67, 0.15);\n",
              "      fill: #174EA6;\n",
              "    }\n",
              "\n",
              "    .colab-df-buttons div {\n",
              "      margin-bottom: 4px;\n",
              "    }\n",
              "\n",
              "    [theme=dark] .colab-df-convert {\n",
              "      background-color: #3B4455;\n",
              "      fill: #D2E3FC;\n",
              "    }\n",
              "\n",
              "    [theme=dark] .colab-df-convert:hover {\n",
              "      background-color: #434B5C;\n",
              "      box-shadow: 0px 1px 3px 1px rgba(0, 0, 0, 0.15);\n",
              "      filter: drop-shadow(0px 1px 2px rgba(0, 0, 0, 0.3));\n",
              "      fill: #FFFFFF;\n",
              "    }\n",
              "  </style>\n",
              "\n",
              "    <script>\n",
              "      const buttonEl =\n",
              "        document.querySelector('#df-cf41d040-569c-48f9-a8c7-857f73b897fe button.colab-df-convert');\n",
              "      buttonEl.style.display =\n",
              "        google.colab.kernel.accessAllowed ? 'block' : 'none';\n",
              "\n",
              "      async function convertToInteractive(key) {\n",
              "        const element = document.querySelector('#df-cf41d040-569c-48f9-a8c7-857f73b897fe');\n",
              "        const dataTable =\n",
              "          await google.colab.kernel.invokeFunction('convertToInteractive',\n",
              "                                                    [key], {});\n",
              "        if (!dataTable) return;\n",
              "\n",
              "        const docLinkHtml = 'Like what you see? Visit the ' +\n",
              "          '<a target=\"_blank\" href=https://colab.research.google.com/notebooks/data_table.ipynb>data table notebook</a>'\n",
              "          + ' to learn more about interactive tables.';\n",
              "        element.innerHTML = '';\n",
              "        dataTable['output_type'] = 'display_data';\n",
              "        await google.colab.output.renderOutput(dataTable, element);\n",
              "        const docLink = document.createElement('div');\n",
              "        docLink.innerHTML = docLinkHtml;\n",
              "        element.appendChild(docLink);\n",
              "      }\n",
              "    </script>\n",
              "  </div>\n",
              "\n",
              "\n",
              "<div id=\"df-fae3735a-d697-40c6-b843-9e99e7e67239\">\n",
              "  <button class=\"colab-df-quickchart\" onclick=\"quickchart('df-fae3735a-d697-40c6-b843-9e99e7e67239')\"\n",
              "            title=\"Suggest charts\"\n",
              "            style=\"display:none;\">\n",
              "\n",
              "<svg xmlns=\"http://www.w3.org/2000/svg\" height=\"24px\"viewBox=\"0 0 24 24\"\n",
              "     width=\"24px\">\n",
              "    <g>\n",
              "        <path d=\"M19 3H5c-1.1 0-2 .9-2 2v14c0 1.1.9 2 2 2h14c1.1 0 2-.9 2-2V5c0-1.1-.9-2-2-2zM9 17H7v-7h2v7zm4 0h-2V7h2v10zm4 0h-2v-4h2v4z\"/>\n",
              "    </g>\n",
              "</svg>\n",
              "  </button>\n",
              "\n",
              "<style>\n",
              "  .colab-df-quickchart {\n",
              "      --bg-color: #E8F0FE;\n",
              "      --fill-color: #1967D2;\n",
              "      --hover-bg-color: #E2EBFA;\n",
              "      --hover-fill-color: #174EA6;\n",
              "      --disabled-fill-color: #AAA;\n",
              "      --disabled-bg-color: #DDD;\n",
              "  }\n",
              "\n",
              "  [theme=dark] .colab-df-quickchart {\n",
              "      --bg-color: #3B4455;\n",
              "      --fill-color: #D2E3FC;\n",
              "      --hover-bg-color: #434B5C;\n",
              "      --hover-fill-color: #FFFFFF;\n",
              "      --disabled-bg-color: #3B4455;\n",
              "      --disabled-fill-color: #666;\n",
              "  }\n",
              "\n",
              "  .colab-df-quickchart {\n",
              "    background-color: var(--bg-color);\n",
              "    border: none;\n",
              "    border-radius: 50%;\n",
              "    cursor: pointer;\n",
              "    display: none;\n",
              "    fill: var(--fill-color);\n",
              "    height: 32px;\n",
              "    padding: 0;\n",
              "    width: 32px;\n",
              "  }\n",
              "\n",
              "  .colab-df-quickchart:hover {\n",
              "    background-color: var(--hover-bg-color);\n",
              "    box-shadow: 0 1px 2px rgba(60, 64, 67, 0.3), 0 1px 3px 1px rgba(60, 64, 67, 0.15);\n",
              "    fill: var(--button-hover-fill-color);\n",
              "  }\n",
              "\n",
              "  .colab-df-quickchart-complete:disabled,\n",
              "  .colab-df-quickchart-complete:disabled:hover {\n",
              "    background-color: var(--disabled-bg-color);\n",
              "    fill: var(--disabled-fill-color);\n",
              "    box-shadow: none;\n",
              "  }\n",
              "\n",
              "  .colab-df-spinner {\n",
              "    border: 2px solid var(--fill-color);\n",
              "    border-color: transparent;\n",
              "    border-bottom-color: var(--fill-color);\n",
              "    animation:\n",
              "      spin 1s steps(1) infinite;\n",
              "  }\n",
              "\n",
              "  @keyframes spin {\n",
              "    0% {\n",
              "      border-color: transparent;\n",
              "      border-bottom-color: var(--fill-color);\n",
              "      border-left-color: var(--fill-color);\n",
              "    }\n",
              "    20% {\n",
              "      border-color: transparent;\n",
              "      border-left-color: var(--fill-color);\n",
              "      border-top-color: var(--fill-color);\n",
              "    }\n",
              "    30% {\n",
              "      border-color: transparent;\n",
              "      border-left-color: var(--fill-color);\n",
              "      border-top-color: var(--fill-color);\n",
              "      border-right-color: var(--fill-color);\n",
              "    }\n",
              "    40% {\n",
              "      border-color: transparent;\n",
              "      border-right-color: var(--fill-color);\n",
              "      border-top-color: var(--fill-color);\n",
              "    }\n",
              "    60% {\n",
              "      border-color: transparent;\n",
              "      border-right-color: var(--fill-color);\n",
              "    }\n",
              "    80% {\n",
              "      border-color: transparent;\n",
              "      border-right-color: var(--fill-color);\n",
              "      border-bottom-color: var(--fill-color);\n",
              "    }\n",
              "    90% {\n",
              "      border-color: transparent;\n",
              "      border-bottom-color: var(--fill-color);\n",
              "    }\n",
              "  }\n",
              "</style>\n",
              "\n",
              "  <script>\n",
              "    async function quickchart(key) {\n",
              "      const quickchartButtonEl =\n",
              "        document.querySelector('#' + key + ' button');\n",
              "      quickchartButtonEl.disabled = true;  // To prevent multiple clicks.\n",
              "      quickchartButtonEl.classList.add('colab-df-spinner');\n",
              "      try {\n",
              "        const charts = await google.colab.kernel.invokeFunction(\n",
              "            'suggestCharts', [key], {});\n",
              "      } catch (error) {\n",
              "        console.error('Error during call to suggestCharts:', error);\n",
              "      }\n",
              "      quickchartButtonEl.classList.remove('colab-df-spinner');\n",
              "      quickchartButtonEl.classList.add('colab-df-quickchart-complete');\n",
              "    }\n",
              "    (() => {\n",
              "      let quickchartButtonEl =\n",
              "        document.querySelector('#df-fae3735a-d697-40c6-b843-9e99e7e67239 button');\n",
              "      quickchartButtonEl.style.display =\n",
              "        google.colab.kernel.accessAllowed ? 'block' : 'none';\n",
              "    })();\n",
              "  </script>\n",
              "</div>\n",
              "\n",
              "  <div id=\"id_c96c1022-feff-4e15-9ca8-3548a40c1a94\">\n",
              "    <style>\n",
              "      .colab-df-generate {\n",
              "        background-color: #E8F0FE;\n",
              "        border: none;\n",
              "        border-radius: 50%;\n",
              "        cursor: pointer;\n",
              "        display: none;\n",
              "        fill: #1967D2;\n",
              "        height: 32px;\n",
              "        padding: 0 0 0 0;\n",
              "        width: 32px;\n",
              "      }\n",
              "\n",
              "      .colab-df-generate:hover {\n",
              "        background-color: #E2EBFA;\n",
              "        box-shadow: 0px 1px 2px rgba(60, 64, 67, 0.3), 0px 1px 3px 1px rgba(60, 64, 67, 0.15);\n",
              "        fill: #174EA6;\n",
              "      }\n",
              "\n",
              "      [theme=dark] .colab-df-generate {\n",
              "        background-color: #3B4455;\n",
              "        fill: #D2E3FC;\n",
              "      }\n",
              "\n",
              "      [theme=dark] .colab-df-generate:hover {\n",
              "        background-color: #434B5C;\n",
              "        box-shadow: 0px 1px 3px 1px rgba(0, 0, 0, 0.15);\n",
              "        filter: drop-shadow(0px 1px 2px rgba(0, 0, 0, 0.3));\n",
              "        fill: #FFFFFF;\n",
              "      }\n",
              "    </style>\n",
              "    <button class=\"colab-df-generate\" onclick=\"generateWithVariable('x')\"\n",
              "            title=\"Generate code using this dataframe.\"\n",
              "            style=\"display:none;\">\n",
              "\n",
              "  <svg xmlns=\"http://www.w3.org/2000/svg\" height=\"24px\"viewBox=\"0 0 24 24\"\n",
              "       width=\"24px\">\n",
              "    <path d=\"M7,19H8.4L18.45,9,17,7.55,7,17.6ZM5,21V16.75L18.45,3.32a2,2,0,0,1,2.83,0l1.4,1.43a1.91,1.91,0,0,1,.58,1.4,1.91,1.91,0,0,1-.58,1.4L9.25,21ZM18.45,9,17,7.55Zm-12,3A5.31,5.31,0,0,0,4.9,8.1,5.31,5.31,0,0,0,1,6.5,5.31,5.31,0,0,0,4.9,4.9,5.31,5.31,0,0,0,6.5,1,5.31,5.31,0,0,0,8.1,4.9,5.31,5.31,0,0,0,12,6.5,5.46,5.46,0,0,0,6.5,12Z\"/>\n",
              "  </svg>\n",
              "    </button>\n",
              "    <script>\n",
              "      (() => {\n",
              "      const buttonEl =\n",
              "        document.querySelector('#id_c96c1022-feff-4e15-9ca8-3548a40c1a94 button.colab-df-generate');\n",
              "      buttonEl.style.display =\n",
              "        google.colab.kernel.accessAllowed ? 'block' : 'none';\n",
              "\n",
              "      buttonEl.onclick = () => {\n",
              "        google.colab.notebook.generateWithVariable('x');\n",
              "      }\n",
              "      })();\n",
              "    </script>\n",
              "  </div>\n",
              "\n",
              "    </div>\n",
              "  </div>\n"
            ],
            "application/vnd.google.colaboratory.intrinsic+json": {
              "type": "dataframe",
              "variable_name": "x",
              "summary": "{\n  \"name\": \"x\",\n  \"rows\": 21,\n  \"fields\": [\n    {\n      \"column\": \"Femur_length\",\n      \"properties\": {\n        \"dtype\": \"number\",\n        \"std\": 9.307255234493143,\n        \"min\": 35.0,\n        \"max\": 65.0,\n        \"num_unique_values\": 21,\n        \"samples\": [\n          35.0,\n          60.5,\n          57.5\n        ],\n        \"semantic_type\": \"\",\n        \"description\": \"\"\n      }\n    }\n  ]\n}"
            }
          },
          "metadata": {},
          "execution_count": 26
        }
      ]
    },
    {
      "cell_type": "code",
      "source": [
        "y"
      ],
      "metadata": {
        "colab": {
          "base_uri": "https://localhost:8080/",
          "height": 742
        },
        "id": "uqnssYnmFAw-",
        "outputId": "0c7943df-f4d6-478b-e374-3471bb882703"
      },
      "execution_count": 27,
      "outputs": [
        {
          "output_type": "execute_result",
          "data": {
            "text/plain": [
              "0     145.751662\n",
              "1     154.819895\n",
              "2     147.451499\n",
              "3     154.532704\n",
              "4     166.174503\n",
              "5     171.453258\n",
              "6     149.446089\n",
              "7     164.732758\n",
              "8     168.820250\n",
              "9     171.326077\n",
              "10    182.076381\n",
              "11    188.375132\n",
              "12    188.087388\n",
              "13    196.951817\n",
              "14    192.851622\n",
              "15    201.607658\n",
              "16    210.661354\n",
              "17    202.061438\n",
              "18    215.722244\n",
              "19    207.049588\n",
              "20    215.839459\n",
              "Name: Human_height, dtype: float64"
            ],
            "text/html": [
              "<div>\n",
              "<style scoped>\n",
              "    .dataframe tbody tr th:only-of-type {\n",
              "        vertical-align: middle;\n",
              "    }\n",
              "\n",
              "    .dataframe tbody tr th {\n",
              "        vertical-align: top;\n",
              "    }\n",
              "\n",
              "    .dataframe thead th {\n",
              "        text-align: right;\n",
              "    }\n",
              "</style>\n",
              "<table border=\"1\" class=\"dataframe\">\n",
              "  <thead>\n",
              "    <tr style=\"text-align: right;\">\n",
              "      <th></th>\n",
              "      <th>Human_height</th>\n",
              "    </tr>\n",
              "  </thead>\n",
              "  <tbody>\n",
              "    <tr>\n",
              "      <th>0</th>\n",
              "      <td>145.751662</td>\n",
              "    </tr>\n",
              "    <tr>\n",
              "      <th>1</th>\n",
              "      <td>154.819895</td>\n",
              "    </tr>\n",
              "    <tr>\n",
              "      <th>2</th>\n",
              "      <td>147.451499</td>\n",
              "    </tr>\n",
              "    <tr>\n",
              "      <th>3</th>\n",
              "      <td>154.532704</td>\n",
              "    </tr>\n",
              "    <tr>\n",
              "      <th>4</th>\n",
              "      <td>166.174503</td>\n",
              "    </tr>\n",
              "    <tr>\n",
              "      <th>5</th>\n",
              "      <td>171.453258</td>\n",
              "    </tr>\n",
              "    <tr>\n",
              "      <th>6</th>\n",
              "      <td>149.446089</td>\n",
              "    </tr>\n",
              "    <tr>\n",
              "      <th>7</th>\n",
              "      <td>164.732758</td>\n",
              "    </tr>\n",
              "    <tr>\n",
              "      <th>8</th>\n",
              "      <td>168.820250</td>\n",
              "    </tr>\n",
              "    <tr>\n",
              "      <th>9</th>\n",
              "      <td>171.326077</td>\n",
              "    </tr>\n",
              "    <tr>\n",
              "      <th>10</th>\n",
              "      <td>182.076381</td>\n",
              "    </tr>\n",
              "    <tr>\n",
              "      <th>11</th>\n",
              "      <td>188.375132</td>\n",
              "    </tr>\n",
              "    <tr>\n",
              "      <th>12</th>\n",
              "      <td>188.087388</td>\n",
              "    </tr>\n",
              "    <tr>\n",
              "      <th>13</th>\n",
              "      <td>196.951817</td>\n",
              "    </tr>\n",
              "    <tr>\n",
              "      <th>14</th>\n",
              "      <td>192.851622</td>\n",
              "    </tr>\n",
              "    <tr>\n",
              "      <th>15</th>\n",
              "      <td>201.607658</td>\n",
              "    </tr>\n",
              "    <tr>\n",
              "      <th>16</th>\n",
              "      <td>210.661354</td>\n",
              "    </tr>\n",
              "    <tr>\n",
              "      <th>17</th>\n",
              "      <td>202.061438</td>\n",
              "    </tr>\n",
              "    <tr>\n",
              "      <th>18</th>\n",
              "      <td>215.722244</td>\n",
              "    </tr>\n",
              "    <tr>\n",
              "      <th>19</th>\n",
              "      <td>207.049588</td>\n",
              "    </tr>\n",
              "    <tr>\n",
              "      <th>20</th>\n",
              "      <td>215.839459</td>\n",
              "    </tr>\n",
              "  </tbody>\n",
              "</table>\n",
              "</div><br><label><b>dtype:</b> float64</label>"
            ]
          },
          "metadata": {},
          "execution_count": 27
        }
      ]
    },
    {
      "cell_type": "markdown",
      "source": [
        "![simple linear regresstion.png](data:image/png;base64,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)"
      ],
      "metadata": {
        "id": "hOkPMcCVFSWf"
      }
    },
    {
      "cell_type": "markdown",
      "source": [
        "#Y=Femur_length*m+c"
      ],
      "metadata": {
        "id": "kOEzAeG6Fu8F"
      }
    },
    {
      "cell_type": "code",
      "source": [
        "# train test split\n",
        "from sklearn.model_selection import train_test_split\n",
        "x_train,x_test,y_train,y_test=train_test_split(x,y,test_size=0.2,random_state=101)"
      ],
      "metadata": {
        "id": "d_lfnbzxFEFU"
      },
      "execution_count": 28,
      "outputs": []
    },
    {
      "cell_type": "code",
      "source": [
        "# check shape of train and test sample\n",
        "print(x_train.shape)\n",
        "print(x_test.shape)\n",
        "print(y_train.shape)\n",
        "print(y_test.shape)"
      ],
      "metadata": {
        "colab": {
          "base_uri": "https://localhost:8080/"
        },
        "id": "bbnBPtrxGWAS",
        "outputId": "b6c091d2-c980-485c-af3b-f8c1905fc666"
      },
      "execution_count": 29,
      "outputs": [
        {
          "output_type": "stream",
          "name": "stdout",
          "text": [
            "(16, 1)\n",
            "(5, 1)\n",
            "(16,)\n",
            "(5,)\n"
          ]
        }
      ]
    },
    {
      "cell_type": "code",
      "source": [
        "# select model\n",
        "from sklearn.linear_model import LinearRegression\n",
        "regresser=LinearRegression()"
      ],
      "metadata": {
        "id": "FdMz3Mc5Gg2a"
      },
      "execution_count": 33,
      "outputs": []
    },
    {
      "cell_type": "code",
      "source": [
        "# Training\n",
        "regresser.fit(x_train,y_train)"
      ],
      "metadata": {
        "colab": {
          "base_uri": "https://localhost:8080/",
          "height": 74
        },
        "id": "rhXZFlSUGq1p",
        "outputId": "5588415e-c093-4639-f88b-823f0f38ed14"
      },
      "execution_count": 34,
      "outputs": [
        {
          "output_type": "execute_result",
          "data": {
            "text/plain": [
              "LinearRegression()"
            ],
            "text/html": [
              "<style>#sk-container-id-1 {color: black;}#sk-container-id-1 pre{padding: 0;}#sk-container-id-1 div.sk-toggleable {background-color: white;}#sk-container-id-1 label.sk-toggleable__label {cursor: pointer;display: block;width: 100%;margin-bottom: 0;padding: 0.3em;box-sizing: border-box;text-align: center;}#sk-container-id-1 label.sk-toggleable__label-arrow:before {content: \"▸\";float: left;margin-right: 0.25em;color: #696969;}#sk-container-id-1 label.sk-toggleable__label-arrow:hover:before {color: black;}#sk-container-id-1 div.sk-estimator:hover label.sk-toggleable__label-arrow:before {color: black;}#sk-container-id-1 div.sk-toggleable__content {max-height: 0;max-width: 0;overflow: hidden;text-align: left;background-color: #f0f8ff;}#sk-container-id-1 div.sk-toggleable__content pre {margin: 0.2em;color: black;border-radius: 0.25em;background-color: #f0f8ff;}#sk-container-id-1 input.sk-toggleable__control:checked~div.sk-toggleable__content {max-height: 200px;max-width: 100%;overflow: auto;}#sk-container-id-1 input.sk-toggleable__control:checked~label.sk-toggleable__label-arrow:before {content: \"▾\";}#sk-container-id-1 div.sk-estimator input.sk-toggleable__control:checked~label.sk-toggleable__label {background-color: #d4ebff;}#sk-container-id-1 div.sk-label input.sk-toggleable__control:checked~label.sk-toggleable__label {background-color: #d4ebff;}#sk-container-id-1 input.sk-hidden--visually {border: 0;clip: rect(1px 1px 1px 1px);clip: rect(1px, 1px, 1px, 1px);height: 1px;margin: -1px;overflow: hidden;padding: 0;position: absolute;width: 1px;}#sk-container-id-1 div.sk-estimator {font-family: monospace;background-color: #f0f8ff;border: 1px dotted black;border-radius: 0.25em;box-sizing: border-box;margin-bottom: 0.5em;}#sk-container-id-1 div.sk-estimator:hover {background-color: #d4ebff;}#sk-container-id-1 div.sk-parallel-item::after {content: \"\";width: 100%;border-bottom: 1px solid gray;flex-grow: 1;}#sk-container-id-1 div.sk-label:hover label.sk-toggleable__label {background-color: #d4ebff;}#sk-container-id-1 div.sk-serial::before {content: \"\";position: absolute;border-left: 1px solid gray;box-sizing: border-box;top: 0;bottom: 0;left: 50%;z-index: 0;}#sk-container-id-1 div.sk-serial {display: flex;flex-direction: column;align-items: center;background-color: white;padding-right: 0.2em;padding-left: 0.2em;position: relative;}#sk-container-id-1 div.sk-item {position: relative;z-index: 1;}#sk-container-id-1 div.sk-parallel {display: flex;align-items: stretch;justify-content: center;background-color: white;position: relative;}#sk-container-id-1 div.sk-item::before, #sk-container-id-1 div.sk-parallel-item::before {content: \"\";position: absolute;border-left: 1px solid gray;box-sizing: border-box;top: 0;bottom: 0;left: 50%;z-index: -1;}#sk-container-id-1 div.sk-parallel-item {display: flex;flex-direction: column;z-index: 1;position: relative;background-color: white;}#sk-container-id-1 div.sk-parallel-item:first-child::after {align-self: flex-end;width: 50%;}#sk-container-id-1 div.sk-parallel-item:last-child::after {align-self: flex-start;width: 50%;}#sk-container-id-1 div.sk-parallel-item:only-child::after {width: 0;}#sk-container-id-1 div.sk-dashed-wrapped {border: 1px dashed gray;margin: 0 0.4em 0.5em 0.4em;box-sizing: border-box;padding-bottom: 0.4em;background-color: white;}#sk-container-id-1 div.sk-label label {font-family: monospace;font-weight: bold;display: inline-block;line-height: 1.2em;}#sk-container-id-1 div.sk-label-container {text-align: center;}#sk-container-id-1 div.sk-container {/* jupyter's `normalize.less` sets `[hidden] { display: none; }` but bootstrap.min.css set `[hidden] { display: none !important; }` so we also need the `!important` here to be able to override the default hidden behavior on the sphinx rendered scikit-learn.org. See: https://github.com/scikit-learn/scikit-learn/issues/21755 */display: inline-block !important;position: relative;}#sk-container-id-1 div.sk-text-repr-fallback {display: none;}</style><div id=\"sk-container-id-1\" class=\"sk-top-container\"><div class=\"sk-text-repr-fallback\"><pre>LinearRegression()</pre><b>In a Jupyter environment, please rerun this cell to show the HTML representation or trust the notebook. <br />On GitHub, the HTML representation is unable to render, please try loading this page with nbviewer.org.</b></div><div class=\"sk-container\" hidden><div class=\"sk-item\"><div class=\"sk-estimator sk-toggleable\"><input class=\"sk-toggleable__control sk-hidden--visually\" id=\"sk-estimator-id-1\" type=\"checkbox\" checked><label for=\"sk-estimator-id-1\" class=\"sk-toggleable__label sk-toggleable__label-arrow\">LinearRegression</label><div class=\"sk-toggleable__content\"><pre>LinearRegression()</pre></div></div></div></div></div>"
            ]
          },
          "metadata": {},
          "execution_count": 34
        }
      ]
    },
    {
      "cell_type": "code",
      "source": [
        "regresser.coef_"
      ],
      "metadata": {
        "colab": {
          "base_uri": "https://localhost:8080/"
        },
        "id": "uLhl-Ar7GxiL",
        "outputId": "9fac0975-325a-44d9-d717-551a49ec7923"
      },
      "execution_count": 35,
      "outputs": [
        {
          "output_type": "execute_result",
          "data": {
            "text/plain": [
              "array([2.36347025])"
            ]
          },
          "metadata": {},
          "execution_count": 35
        }
      ]
    },
    {
      "cell_type": "code",
      "source": [
        "regresser.intercept_"
      ],
      "metadata": {
        "colab": {
          "base_uri": "https://localhost:8080/"
        },
        "id": "fwHf-NVyHGQf",
        "outputId": "7293ac1b-3418-40e2-e878-d5d7eec55534"
      },
      "execution_count": 36,
      "outputs": [
        {
          "output_type": "execute_result",
          "data": {
            "text/plain": [
              "62.52491098034058"
            ]
          },
          "metadata": {},
          "execution_count": 36
        }
      ]
    },
    {
      "cell_type": "code",
      "source": [
        "#predict model\n",
        "y_pred=regresser.predict(x_test)\n",
        "y_pred"
      ],
      "metadata": {
        "colab": {
          "base_uri": "https://localhost:8080/"
        },
        "id": "NqyxV3UvHIhI",
        "outputId": "4a5e132c-a188-483b-b593-8fe2499a7858"
      },
      "execution_count": 37,
      "outputs": [
        {
          "output_type": "execute_result",
          "data": {
            "text/plain": [
              "array([170.06280721, 209.06006628, 152.33678036, 155.88198573,\n",
              "       148.79157499])"
            ]
          },
          "metadata": {},
          "execution_count": 37
        }
      ]
    },
    {
      "cell_type": "code",
      "source": [
        "# model accuracy\n",
        "from sklearn.metrics import mean_absolute_error, mean_absolute_percentage_error, mean_squared_error"
      ],
      "metadata": {
        "id": "WF6MeOPIHU3g"
      },
      "execution_count": 38,
      "outputs": []
    },
    {
      "cell_type": "code",
      "source": [
        "mean_absolute_error(y_test,y_pred)\n"
      ],
      "metadata": {
        "colab": {
          "base_uri": "https://localhost:8080/"
        },
        "id": "8_D9gC4qHjfo",
        "outputId": "742af45f-8066-4414-ea5d-e810785da776"
      },
      "execution_count": 39,
      "outputs": [
        {
          "output_type": "execute_result",
          "data": {
            "text/plain": [
              "4.851022010258868"
            ]
          },
          "metadata": {},
          "execution_count": 39
        }
      ]
    },
    {
      "cell_type": "code",
      "source": [
        "mean_absolute_percentage_error(y_test,y_pred)#evaluate the performance of regression models\n"
      ],
      "metadata": {
        "colab": {
          "base_uri": "https://localhost:8080/"
        },
        "id": "VDLHTA1WHqgN",
        "outputId": "eff67cba-8506-4052-c7bf-42860309f92b"
      },
      "execution_count": 40,
      "outputs": [
        {
          "output_type": "execute_result",
          "data": {
            "text/plain": [
              "0.028807861097033156"
            ]
          },
          "metadata": {},
          "execution_count": 40
        }
      ]
    },
    {
      "cell_type": "code",
      "source": [
        "mean_squared_error(y_test,y_pred)\n"
      ],
      "metadata": {
        "colab": {
          "base_uri": "https://localhost:8080/"
        },
        "id": "05UVBrNXIGK7",
        "outputId": "7fe490ce-c9e2-4824-e86a-149dec3d9a35"
      },
      "execution_count": 41,
      "outputs": [
        {
          "output_type": "execute_result",
          "data": {
            "text/plain": [
              "26.9642434580903"
            ]
          },
          "metadata": {},
          "execution_count": 41
        }
      ]
    },
    {
      "cell_type": "code",
      "source": [
        "x=np.linspace(40,150,100)\n",
        "y=regresser.intercept_+regresser.coef_*x\n",
        "\n",
        "plt.plot(x,y)\n",
        "plt.show()"
      ],
      "metadata": {
        "colab": {
          "base_uri": "https://localhost:8080/",
          "height": 430
        },
        "id": "nWIVBD2YIxQF",
        "outputId": "bbac4af9-3d2f-445a-93d1-cf587aca9f8d"
      },
      "execution_count": 42,
      "outputs": [
        {
          "output_type": "display_data",
          "data": {
            "text/plain": [
              "<Figure size 640x480 with 1 Axes>"
            ],
            "image/png": "[encoded data removed]"
          },
          "metadata": {}
        }
      ]
    },
    {
      "cell_type": "code",
      "source": [
        "result=pd.DataFrame({'Actual':y_test,'Predicted':y_pred})\n",
        "result"
      ],
      "metadata": {
        "colab": {
          "base_uri": "https://localhost:8080/",
          "height": 206
        },
        "id": "nJV4T8xEJRQ8",
        "outputId": "7b1a326a-723f-420e-a958-632c0a0bc805"
      },
      "execution_count": 43,
      "outputs": [
        {
          "output_type": "execute_result",
          "data": {
            "text/plain": [
              "        Actual   Predicted\n",
              "7   164.732758  170.062807\n",
              "18  215.722244  209.060066\n",
              "2   147.451499  152.336780\n",
              "3   154.532704  155.881986\n",
              "1   154.819895  148.791575"
            ],
            "text/html": [
              "\n",
              "  <div id=\"df-093332bb-fee4-47db-8b27-daffb0b6ad0d\" class=\"colab-df-container\">\n",
              "    <div>\n",
              "<style scoped>\n",
              "    .dataframe tbody tr th:only-of-type {\n",
              "        vertical-align: middle;\n",
              "    }\n",
              "\n",
              "    .dataframe tbody tr th {\n",
              "        vertical-align: top;\n",
              "    }\n",
              "\n",
              "    .dataframe thead th {\n",
              "        text-align: right;\n",
              "    }\n",
              "</style>\n",
              "<table border=\"1\" class=\"dataframe\">\n",
              "  <thead>\n",
              "    <tr style=\"text-align: right;\">\n",
              "      <th></th>\n",
              "      <th>Actual</th>\n",
              "      <th>Predicted</th>\n",
              "    </tr>\n",
              "  </thead>\n",
              "  <tbody>\n",
              "    <tr>\n",
              "      <th>7</th>\n",
              "      <td>164.732758</td>\n",
              "      <td>170.062807</td>\n",
              "    </tr>\n",
              "    <tr>\n",
              "      <th>18</th>\n",
              "      <td>215.722244</td>\n",
              "      <td>209.060066</td>\n",
              "    </tr>\n",
              "    <tr>\n",
              "      <th>2</th>\n",
              "      <td>147.451499</td>\n",
              "      <td>152.336780</td>\n",
              "    </tr>\n",
              "    <tr>\n",
              "      <th>3</th>\n",
              "      <td>154.532704</td>\n",
              "      <td>155.881986</td>\n",
              "    </tr>\n",
              "    <tr>\n",
              "      <th>1</th>\n",
              "      <td>154.819895</td>\n",
              "      <td>148.791575</td>\n",
              "    </tr>\n",
              "  </tbody>\n",
              "</table>\n",
              "</div>\n",
              "    <div class=\"colab-df-buttons\">\n",
              "\n",
              "  <div class=\"colab-df-container\">\n",
              "    <button class=\"colab-df-convert\" onclick=\"convertToInteractive('df-093332bb-fee4-47db-8b27-daffb0b6ad0d')\"\n",
              "            title=\"Convert this dataframe to an interactive table.\"\n",
              "            style=\"display:none;\">\n",
              "\n",
              "  <svg xmlns=\"http://www.w3.org/2000/svg\" height=\"24px\" viewBox=\"0 -960 960 960\">\n",
              "    <path d=\"M120-120v-720h720v720H120Zm60-500h600v-160H180v160Zm220 220h160v-160H400v160Zm0 220h160v-160H400v160ZM180-400h160v-160H180v160Zm440 0h160v-160H620v160ZM180-180h160v-160H180v160Zm440 0h160v-160H620v160Z\"/>\n",
              "  </svg>\n",
              "    </button>\n",
              "\n",
              "  <style>\n",
              "    .colab-df-container {\n",
              "      display:flex;\n",
              "      gap: 12px;\n",
              "    }\n",
              "\n",
              "    .colab-df-convert {\n",
              "      background-color: #E8F0FE;\n",
              "      border: none;\n",
              "      border-radius: 50%;\n",
              "      cursor: pointer;\n",
              "      display: none;\n",
              "      fill: #1967D2;\n",
              "      height: 32px;\n",
              "      padding: 0 0 0 0;\n",
              "      width: 32px;\n",
              "    }\n",
              "\n",
              "    .colab-df-convert:hover {\n",
              "      background-color: #E2EBFA;\n",
              "      box-shadow: 0px 1px 2px rgba(60, 64, 67, 0.3), 0px 1px 3px 1px rgba(60, 64, 67, 0.15);\n",
              "      fill: #174EA6;\n",
              "    }\n",
              "\n",
              "    .colab-df-buttons div {\n",
              "      margin-bottom: 4px;\n",
              "    }\n",
              "\n",
              "    [theme=dark] .colab-df-convert {\n",
              "      background-color: #3B4455;\n",
              "      fill: #D2E3FC;\n",
              "    }\n",
              "\n",
              "    [theme=dark] .colab-df-convert:hover {\n",
              "      background-color: #434B5C;\n",
              "      box-shadow: 0px 1px 3px 1px rgba(0, 0, 0, 0.15);\n",
              "      filter: drop-shadow(0px 1px 2px rgba(0, 0, 0, 0.3));\n",
              "      fill: #FFFFFF;\n",
              "    }\n",
              "  </style>\n",
              "\n",
              "    <script>\n",
              "      const buttonEl =\n",
              "        document.querySelector('#df-093332bb-fee4-47db-8b27-daffb0b6ad0d button.colab-df-convert');\n",
              "      buttonEl.style.display =\n",
              "        google.colab.kernel.accessAllowed ? 'block' : 'none';\n",
              "\n",
              "      async function convertToInteractive(key) {\n",
              "        const element = document.querySelector('#df-093332bb-fee4-47db-8b27-daffb0b6ad0d');\n",
              "        const dataTable =\n",
              "          await google.colab.kernel.invokeFunction('convertToInteractive',\n",
              "                                                    [key], {});\n",
              "        if (!dataTable) return;\n",
              "\n",
              "        const docLinkHtml = 'Like what you see? Visit the ' +\n",
              "          '<a target=\"_blank\" href=https://colab.research.google.com/notebooks/data_table.ipynb>data table notebook</a>'\n",
              "          + ' to learn more about interactive tables.';\n",
              "        element.innerHTML = '';\n",
              "        dataTable['output_type'] = 'display_data';\n",
              "        await google.colab.output.renderOutput(dataTable, element);\n",
              "        const docLink = document.createElement('div');\n",
              "        docLink.innerHTML = docLinkHtml;\n",
              "        element.appendChild(docLink);\n",
              "      }\n",
              "    </script>\n",
              "  </div>\n",
              "\n",
              "\n",
              "<div id=\"df-9f9cf471-5cb3-4e16-b592-f09e57edb05b\">\n",
              "  <button class=\"colab-df-quickchart\" onclick=\"quickchart('df-9f9cf471-5cb3-4e16-b592-f09e57edb05b')\"\n",
              "            title=\"Suggest charts\"\n",
              "            style=\"display:none;\">\n",
              "\n",
              "<svg xmlns=\"http://www.w3.org/2000/svg\" height=\"24px\"viewBox=\"0 0 24 24\"\n",
              "     width=\"24px\">\n",
              "    <g>\n",
              "        <path d=\"M19 3H5c-1.1 0-2 .9-2 2v14c0 1.1.9 2 2 2h14c1.1 0 2-.9 2-2V5c0-1.1-.9-2-2-2zM9 17H7v-7h2v7zm4 0h-2V7h2v10zm4 0h-2v-4h2v4z\"/>\n",
              "    </g>\n",
              "</svg>\n",
              "  </button>\n",
              "\n",
              "<style>\n",
              "  .colab-df-quickchart {\n",
              "      --bg-color: #E8F0FE;\n",
              "      --fill-color: #1967D2;\n",
              "      --hover-bg-color: #E2EBFA;\n",
              "      --hover-fill-color: #174EA6;\n",
              "      --disabled-fill-color: #AAA;\n",
              "      --disabled-bg-color: #DDD;\n",
              "  }\n",
              "\n",
              "  [theme=dark] .colab-df-quickchart {\n",
              "      --bg-color: #3B4455;\n",
              "      --fill-color: #D2E3FC;\n",
              "      --hover-bg-color: #434B5C;\n",
              "      --hover-fill-color: #FFFFFF;\n",
              "      --disabled-bg-color: #3B4455;\n",
              "      --disabled-fill-color: #666;\n",
              "  }\n",
              "\n",
              "  .colab-df-quickchart {\n",
              "    background-color: var(--bg-color);\n",
              "    border: none;\n",
              "    border-radius: 50%;\n",
              "    cursor: pointer;\n",
              "    display: none;\n",
              "    fill: var(--fill-color);\n",
              "    height: 32px;\n",
              "    padding: 0;\n",
              "    width: 32px;\n",
              "  }\n",
              "\n",
              "  .colab-df-quickchart:hover {\n",
              "    background-color: var(--hover-bg-color);\n",
              "    box-shadow: 0 1px 2px rgba(60, 64, 67, 0.3), 0 1px 3px 1px rgba(60, 64, 67, 0.15);\n",
              "    fill: var(--button-hover-fill-color);\n",
              "  }\n",
              "\n",
              "  .colab-df-quickchart-complete:disabled,\n",
              "  .colab-df-quickchart-complete:disabled:hover {\n",
              "    background-color: var(--disabled-bg-color);\n",
              "    fill: var(--disabled-fill-color);\n",
              "    box-shadow: none;\n",
              "  }\n",
              "\n",
              "  .colab-df-spinner {\n",
              "    border: 2px solid var(--fill-color);\n",
              "    border-color: transparent;\n",
              "    border-bottom-color: var(--fill-color);\n",
              "    animation:\n",
              "      spin 1s steps(1) infinite;\n",
              "  }\n",
              "\n",
              "  @keyframes spin {\n",
              "    0% {\n",
              "      border-color: transparent;\n",
              "      border-bottom-color: var(--fill-color);\n",
              "      border-left-color: var(--fill-color);\n",
              "    }\n",
              "    20% {\n",
              "      border-color: transparent;\n",
              "      border-left-color: var(--fill-color);\n",
              "      border-top-color: var(--fill-color);\n",
              "    }\n",
              "    30% {\n",
              "      border-color: transparent;\n",
              "      border-left-color: var(--fill-color);\n",
              "      border-top-color: var(--fill-color);\n",
              "      border-right-color: var(--fill-color);\n",
              "    }\n",
              "    40% {\n",
              "      border-color: transparent;\n",
              "      border-right-color: var(--fill-color);\n",
              "      border-top-color: var(--fill-color);\n",
              "    }\n",
              "    60% {\n",
              "      border-color: transparent;\n",
              "      border-right-color: var(--fill-color);\n",
              "    }\n",
              "    80% {\n",
              "      border-color: transparent;\n",
              "      border-right-color: var(--fill-color);\n",
              "      border-bottom-color: var(--fill-color);\n",
              "    }\n",
              "    90% {\n",
              "      border-color: transparent;\n",
              "      border-bottom-color: var(--fill-color);\n",
              "    }\n",
              "  }\n",
              "</style>\n",
              "\n",
              "  <script>\n",
              "    async function quickchart(key) {\n",
              "      const quickchartButtonEl =\n",
              "        document.querySelector('#' + key + ' button');\n",
              "      quickchartButtonEl.disabled = true;  // To prevent multiple clicks.\n",
              "      quickchartButtonEl.classList.add('colab-df-spinner');\n",
              "      try {\n",
              "        const charts = await google.colab.kernel.invokeFunction(\n",
              "            'suggestCharts', [key], {});\n",
              "      } catch (error) {\n",
              "        console.error('Error during call to suggestCharts:', error);\n",
              "      }\n",
              "      quickchartButtonEl.classList.remove('colab-df-spinner');\n",
              "      quickchartButtonEl.classList.add('colab-df-quickchart-complete');\n",
              "    }\n",
              "    (() => {\n",
              "      let quickchartButtonEl =\n",
              "        document.querySelector('#df-9f9cf471-5cb3-4e16-b592-f09e57edb05b button');\n",
              "      quickchartButtonEl.style.display =\n",
              "        google.colab.kernel.accessAllowed ? 'block' : 'none';\n",
              "    })();\n",
              "  </script>\n",
              "</div>\n",
              "\n",
              "  <div id=\"id_68194b74-6ce7-45a1-b776-af79f8f06aab\">\n",
              "    <style>\n",
              "      .colab-df-generate {\n",
              "        background-color: #E8F0FE;\n",
              "        border: none;\n",
              "        border-radius: 50%;\n",
              "        cursor: pointer;\n",
              "        display: none;\n",
              "        fill: #1967D2;\n",
              "        height: 32px;\n",
              "        padding: 0 0 0 0;\n",
              "        width: 32px;\n",
              "      }\n",
              "\n",
              "      .colab-df-generate:hover {\n",
              "        background-color: #E2EBFA;\n",
              "        box-shadow: 0px 1px 2px rgba(60, 64, 67, 0.3), 0px 1px 3px 1px rgba(60, 64, 67, 0.15);\n",
              "        fill: #174EA6;\n",
              "      }\n",
              "\n",
              "      [theme=dark] .colab-df-generate {\n",
              "        background-color: #3B4455;\n",
              "        fill: #D2E3FC;\n",
              "      }\n",
              "\n",
              "      [theme=dark] .colab-df-generate:hover {\n",
              "        background-color: #434B5C;\n",
              "        box-shadow: 0px 1px 3px 1px rgba(0, 0, 0, 0.15);\n",
              "        filter: drop-shadow(0px 1px 2px rgba(0, 0, 0, 0.3));\n",
              "        fill: #FFFFFF;\n",
              "      }\n",
              "    </style>\n",
              "    <button class=\"colab-df-generate\" onclick=\"generateWithVariable('result')\"\n",
              "            title=\"Generate code using this dataframe.\"\n",
              "            style=\"display:none;\">\n",
              "\n",
              "  <svg xmlns=\"http://www.w3.org/2000/svg\" height=\"24px\"viewBox=\"0 0 24 24\"\n",
              "       width=\"24px\">\n",
              "    <path d=\"M7,19H8.4L18.45,9,17,7.55,7,17.6ZM5,21V16.75L18.45,3.32a2,2,0,0,1,2.83,0l1.4,1.43a1.91,1.91,0,0,1,.58,1.4,1.91,1.91,0,0,1-.58,1.4L9.25,21ZM18.45,9,17,7.55Zm-12,3A5.31,5.31,0,0,0,4.9,8.1,5.31,5.31,0,0,0,1,6.5,5.31,5.31,0,0,0,4.9,4.9,5.31,5.31,0,0,0,6.5,1,5.31,5.31,0,0,0,8.1,4.9,5.31,5.31,0,0,0,12,6.5,5.46,5.46,0,0,0,6.5,12Z\"/>\n",
              "  </svg>\n",
              "    </button>\n",
              "    <script>\n",
              "      (() => {\n",
              "      const buttonEl =\n",
              "        document.querySelector('#id_68194b74-6ce7-45a1-b776-af79f8f06aab button.colab-df-generate');\n",
              "      buttonEl.style.display =\n",
              "        google.colab.kernel.accessAllowed ? 'block' : 'none';\n",
              "\n",
              "      buttonEl.onclick = () => {\n",
              "        google.colab.notebook.generateWithVariable('result');\n",
              "      }\n",
              "      })();\n",
              "    </script>\n",
              "  </div>\n",
              "\n",
              "    </div>\n",
              "  </div>\n"
            ],
            "application/vnd.google.colaboratory.intrinsic+json": {
              "type": "dataframe",
              "variable_name": "result",
              "summary": "{\n  \"name\": \"result\",\n  \"rows\": 5,\n  \"fields\": [\n    {\n      \"column\": \"Actual\",\n      \"properties\": {\n        \"dtype\": \"number\",\n        \"std\": 27.676294271387537,\n        \"min\": 147.45149902510772,\n        \"max\": 215.7222442195022,\n        \"num_unique_values\": 5,\n        \"samples\": [\n          215.7222442195022,\n          154.81989548172976,\n          147.45149902510772\n        ],\n        \"semantic_type\": \"\",\n        \"description\": \"\"\n      }\n    },\n    {\n      \"column\": \"Predicted\",\n      \"properties\": {\n        \"dtype\": \"number\",\n        \"std\": 24.74035226882672,\n        \"min\": 148.79157498803715,\n        \"max\": 209.06006628108548,\n        \"num_unique_values\": 5,\n        \"samples\": [\n          209.06006628108548,\n          148.79157498803715,\n          152.33678035821646\n        ],\n        \"semantic_type\": \"\",\n        \"description\": \"\"\n      }\n    }\n  ]\n}"
            }
          },
          "metadata": {},
          "execution_count": 43
        }
      ]
    },
    {
      "cell_type": "code",
      "source": [
        "result.plot()"
      ],
      "metadata": {
        "colab": {
          "base_uri": "https://localhost:8080/",
          "height": 448
        },
        "id": "XuW1TeY5JeF5",
        "outputId": "566b2b18-942d-4150-e2e9-272010e7b6c6"
      },
      "execution_count": 45,
      "outputs": [
        {
          "output_type": "execute_result",
          "data": {
            "text/plain": [
              "<Axes: >"
            ]
          },
          "metadata": {},
          "execution_count": 45
        },
        {
          "output_type": "display_data",
          "data": {
            "text/plain": [
              "<Figure size 640x480 with 1 Axes>"
            ],
            "image/png": "[encoded data removed]"
          },
          "metadata": {}
        }
      ]
    },
    {
      "cell_type": "code",
      "source": [],
      "metadata": {
        "id": "djFf_aY-Jk9T"
      },
      "execution_count": null,
      "outputs": []
    }
  ]
}